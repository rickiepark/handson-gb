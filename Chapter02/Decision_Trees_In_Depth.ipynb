{
  "cells": [
    {
      "cell_type": "markdown",
      "metadata": {
        "id": "aTGOHpJlVlSJ"
      },
      "source": [
        "# 2장. 결정 트리"
      ]
    },
    {
      "cell_type": "markdown",
      "metadata": {
        "id": "MIEhYQkSVlSO"
      },
      "source": [
        "*아래 링크를 통해 이 노트북을 주피터 노트북 뷰어(nbviewer.org)로 보거나 구글 코랩(colab.research.google.com)에서 실행할 수 있습니다.*\n",
        "\n",
        "<table class=\"tfo-notebook-buttons\" align=\"left\">\n",
        "  <td>\n",
        "    <a target=\"_blank\" href=\"https://nbviewer.org/github/rickiepark/handson-gb/blob/main/Chapter02/Decision_Trees_In_Depth.ipynb\"><img src=\"https://jupyter.org/assets/share.png\" width=\"60\" />주피터 노트북 뷰어로 보기</a>\n",
        "  </td>\n",
        "  <td>\n",
        "    <a target=\"_blank\" href=\"https://colab.research.google.com/github/rickiepark/handson-gb/blob/main/Chapter02/Decision_Trees_In_Depth.ipynb\"><img src=\"https://www.tensorflow.org/images/colab_logo_32px.png\" />구글 코랩(Colab)에서 실행하기</a>\n",
        "  </td>\n",
        "</table>"
      ]
    },
    {
      "cell_type": "code",
      "execution_count": 1,
      "metadata": {
        "id": "CRB8AAf8VlSQ"
      },
      "outputs": [],
      "source": [
        "# 노트북이 코랩에서 실행 중인지 체크합니다.\n",
        "import sys\n",
        "if 'google.colab' in sys.modules:\n",
        "    !wget -q https://raw.githubusercontent.com/rickiepark/handson-gb/main/Chapter02/census_cleaned.csv\n",
        "    !wget -q https://raw.githubusercontent.com/rickiepark/handson-gb/main/Chapter02/bike_rentals_cleaned.csv\n",
        "    !wget -q https://raw.githubusercontent.com/rickiepark/handson-gb/main/Chapter02/heart_disease.csv"
      ]
    },
    {
      "cell_type": "markdown",
      "metadata": {
        "id": "tG15ewmCVlSS"
      },
      "source": [
        "## 결정 트리 알고리즘\n",
        "\n",
        "### 첫 번째 결정 트리 모델"
      ]
    },
    {
      "cell_type": "code",
      "execution_count": 2,
      "metadata": {
        "id": "VLXwzmWFVlSS"
      },
      "outputs": [],
      "source": [
        "# 판다스와 넘파이를 임포트합니다.\n",
        "import pandas as pd\n",
        "import numpy as np\n",
        "\n",
        "# 경고를 끕니다.\n",
        "import warnings\n",
        "warnings.filterwarnings('ignore')"
      ]
    },
    {
      "cell_type": "code",
      "execution_count": 3,
      "metadata": {
        "id": "EYOyFWeuVlST"
      },
      "outputs": [],
      "source": [
        "# 'census_cleaned.csv' 데이터셋을 로드합니다.\n",
        "df_census = pd.read_csv('census_cleaned.csv')\n",
        "\n",
        "# 데이터를 X와 y로 나눕니다.\n",
        "X = df_census.iloc[:,:-1]\n",
        "y = df_census.iloc[:,-1]\n",
        "\n",
        "# train_test_split 함수를 임포트합니다.\n",
        "from sklearn.model_selection import train_test_split\n",
        "\n",
        "# 데이터를 훈련 세트와 테스트 세트로 나눕니다.\n",
        "X_train, X_test, y_train, y_test = train_test_split(X, y, random_state=2)"
      ]
    },
    {
      "cell_type": "code",
      "execution_count": 4,
      "metadata": {
        "id": "fbjLAZClVlSU",
        "outputId": "e5c1676d-8a15-47e6-d5e0-b8dbc7669397",
        "colab": {
          "base_uri": "https://localhost:8080/"
        }
      },
      "outputs": [
        {
          "output_type": "execute_result",
          "data": {
            "text/plain": [
              "0.8131679154894976"
            ]
          },
          "metadata": {},
          "execution_count": 4
        }
      ],
      "source": [
        "# DecisionTreeClassifier를 임포트합니다.\n",
        "from sklearn.tree import DecisionTreeClassifier\n",
        "\n",
        "# accuracy_score를 임포트합니다.\n",
        "from sklearn.metrics import accuracy_score\n",
        "\n",
        "# 분류 모델을 만듭니다.\n",
        "clf = DecisionTreeClassifier(random_state=2)\n",
        "\n",
        "# 훈련 데이터로 모델을 훈련합니다.\n",
        "clf.fit(X_train, y_train)\n",
        "\n",
        "# 테스트 데이터에 대한 예측을 만듭니다.\n",
        "y_pred = clf.predict(X_test)\n",
        "\n",
        "# 정확도를 계산합니다.\n",
        "accuracy_score(y_pred, y_test)"
      ]
    },
    {
      "cell_type": "code",
      "execution_count": 5,
      "metadata": {
        "scrolled": true,
        "id": "t4wni8IOVlSV",
        "outputId": "9a5182b5-0e46-43cf-f395-d54e9bdbad0c",
        "colab": {
          "base_uri": "https://localhost:8080/"
        }
      },
      "outputs": [
        {
          "output_type": "execute_result",
          "data": {
            "text/plain": [
              "0.8131679154894976"
            ]
          },
          "metadata": {},
          "execution_count": 5
        }
      ],
      "source": [
        "clf.score(X_test, y_test)"
      ]
    },
    {
      "cell_type": "markdown",
      "metadata": {
        "id": "Zuoz8LfAVlSW"
      },
      "source": [
        "### 결정 트리 작동 원리"
      ]
    },
    {
      "cell_type": "code",
      "execution_count": 6,
      "metadata": {
        "id": "4xpTj4KrVlSX",
        "outputId": "6d52386d-69f3-444c-adee-8a38777c3e9d",
        "colab": {
          "base_uri": "https://localhost:8080/",
          "height": 466
        }
      },
      "outputs": [
        {
          "output_type": "display_data",
          "data": {
            "text/plain": [
              "<Figure size 936x576 with 1 Axes>"
            ],
            "image/png": "[encoded data removed]"
          },
          "metadata": {
            "needs_background": "light"
          }
        }
      ],
      "source": [
        "import matplotlib.pyplot as plt\n",
        "from sklearn.tree import plot_tree\n",
        "\n",
        "plt.figure(figsize=(13,8))\n",
        "plot_tree(clf, max_depth=2, feature_names=list(X.columns), class_names=['0', '1'],\n",
        "          filled=True, rounded=True, fontsize=14)\n",
        "plt.show()"
      ]
    },
    {
      "cell_type": "markdown",
      "metadata": {
        "id": "KGtAHaf2VlSX"
      },
      "source": [
        "## 결정 트리 하이퍼파라미터 튜닝\n",
        "\n",
        "### 결정 트리 회귀 모델"
      ]
    },
    {
      "cell_type": "code",
      "execution_count": 7,
      "metadata": {
        "id": "VAlwnG13VlSY"
      },
      "outputs": [],
      "source": [
        "# bike_rentals_cleaned 데이터셋을 로드합니다.\n",
        "df_bikes = pd.read_csv('bike_rentals_cleaned.csv')\n",
        "\n",
        "# 데이터를 X와 y로 나눕니다.\n",
        "X_bikes = df_bikes.iloc[:,:-1]\n",
        "y_bikes = df_bikes.iloc[:,-1]\n",
        "\n",
        "# LinearRegression을 임포트합니다.\n",
        "from sklearn.linear_model import LinearRegression\n",
        "\n",
        "# 데이터를 훈련 세트와 테스트 세트로 나눕니다.\n",
        "X_train, X_test, y_train, y_test = train_test_split(X_bikes, y_bikes, random_state=2)"
      ]
    },
    {
      "cell_type": "code",
      "execution_count": 8,
      "metadata": {
        "id": "WvKLrRFLVlSY"
      },
      "outputs": [],
      "source": [
        "# DecisionTreeRegressor를 임포트합니다.\n",
        "from sklearn.tree import DecisionTreeRegressor\n",
        "\n",
        "# cross_val_score를 임포트합니다.\n",
        "from sklearn.model_selection import cross_val_score"
      ]
    },
    {
      "cell_type": "code",
      "execution_count": 9,
      "metadata": {
        "id": "41l3Uv6nVlSY",
        "outputId": "04efbe3d-8a64-44c1-9b0f-108d09f91c97",
        "colab": {
          "base_uri": "https://localhost:8080/"
        }
      },
      "outputs": [
        {
          "output_type": "stream",
          "name": "stdout",
          "text": [
            "RMSE 평균: 1233.36\n"
          ]
        }
      ],
      "source": [
        "# DecisionTreeRegressor 객체를 만듭니다.\n",
        "reg = DecisionTreeRegressor(random_state=2)\n",
        "\n",
        "# 평균 제곱 오차로 교차 검증 점수를 계산합니다.\n",
        "scores = cross_val_score(reg, X_bikes, y_bikes, scoring='neg_mean_squared_error', cv=5)\n",
        "\n",
        "# 제곱근을 계산합니다.\n",
        "rmse = np.sqrt(-scores)\n",
        "\n",
        "# 평균을 출력합니다.\n",
        "print('RMSE 평균: %0.2f' % (rmse.mean()))"
      ]
    },
    {
      "cell_type": "code",
      "execution_count": 10,
      "metadata": {
        "id": "hgWQFHjhVlSZ",
        "outputId": "96176c9a-4cd9-45c1-a0fe-e4b2fb4e0c86",
        "colab": {
          "base_uri": "https://localhost:8080/"
        }
      },
      "outputs": [
        {
          "output_type": "execute_result",
          "data": {
            "text/plain": [
              "0.0"
            ]
          },
          "metadata": {},
          "execution_count": 10
        }
      ],
      "source": [
        "# DecisionTreeRegressor를 훈련 세트에서 훈련하고 점수를 계산합니다.\n",
        "reg = DecisionTreeRegressor()\n",
        "reg.fit(X_train, y_train)\n",
        "y_pred = reg.predict(X_train)\n",
        "from sklearn.metrics import mean_squared_error\n",
        "reg_mse = mean_squared_error(y_train, y_pred)\n",
        "reg_rmse = np.sqrt(reg_mse)\n",
        "reg_rmse"
      ]
    },
    {
      "cell_type": "code",
      "execution_count": 11,
      "metadata": {
        "id": "rzIsMQkwVlSZ",
        "outputId": "e3ef0364-5461-4b9c-c90c-b576a2f4f5eb",
        "colab": {
          "base_uri": "https://localhost:8080/"
        }
      },
      "outputs": [
        {
          "output_type": "stream",
          "name": "stdout",
          "text": [
            "노드 인덱스: 124 , 샘플 개수: 2\n",
            "전체 리프 노드 개수: 547\n"
          ]
        }
      ],
      "source": [
        "leaf_node_count = 0\n",
        "tree = reg.tree_\n",
        "for i in range(tree.node_count):\n",
        "    if (tree.children_left[i] == -1) and (tree.children_right[i] == -1):\n",
        "        leaf_node_count += 1\n",
        "        if tree.n_node_samples[i] > 1:\n",
        "            print('노드 인덱스:', i, ', 샘플 개수:', tree.n_node_samples[i])\n",
        "print('전체 리프 노드 개수:', leaf_node_count)"
      ]
    },
    {
      "cell_type": "markdown",
      "metadata": {
        "id": "nwPdziWVVlSa"
      },
      "source": [
        "### 하이퍼파라미터\n",
        "\n",
        "#### GridSearchCV"
      ]
    },
    {
      "cell_type": "code",
      "execution_count": 12,
      "metadata": {
        "id": "7Lyki0uTVlSa",
        "outputId": "e048aa4d-d55a-4500-8a0c-b74bdb278684",
        "colab": {
          "base_uri": "https://localhost:8080/"
        }
      },
      "outputs": [
        {
          "output_type": "stream",
          "name": "stdout",
          "text": [
            "최상의 매개변수: {'max_depth': 6}\n"
          ]
        }
      ],
      "source": [
        "# GridSearchCV를 임포트합니다.\n",
        "from sklearn.model_selection import GridSearchCV\n",
        "\n",
        "# max_depth 매개변수를 선택합니다.\n",
        "params = {'max_depth':[None,2,3,4,6,8,10,20]}\n",
        "\n",
        "# 회귀 모델을 만듭니다.\n",
        "reg = DecisionTreeRegressor(random_state=2)\n",
        "\n",
        "# GridSearchCV 객체를 초기화합니다.\n",
        "grid_reg = GridSearchCV(reg, params, scoring='neg_mean_squared_error', \n",
        "                        cv=5, return_train_score=True, n_jobs=-1)\n",
        "\n",
        "# X_train와 y_train로 그리드 서치를 수행합니다.\n",
        "grid_reg.fit(X_train, y_train)\n",
        "\n",
        "# 최상의 매개변수를 추출합니다.\n",
        "best_params = grid_reg.best_params_\n",
        "\n",
        "# 최상의 매개변수를 출력합니다.\n",
        "print(\"최상의 매개변수:\", best_params)"
      ]
    },
    {
      "cell_type": "code",
      "execution_count": 13,
      "metadata": {
        "scrolled": true,
        "id": "ylZhKPNYVlSa",
        "outputId": "8dc2325a-692d-4841-9967-6428a35d0508",
        "colab": {
          "base_uri": "https://localhost:8080/"
        }
      },
      "outputs": [
        {
          "output_type": "stream",
          "name": "stdout",
          "text": [
            "훈련 점수: 951.398\n"
          ]
        }
      ],
      "source": [
        "# 최상의 점수를 계산합니다.\n",
        "best_score = np.sqrt(-grid_reg.best_score_)\n",
        "\n",
        "# 최상의 점수를 출력합니다.\n",
        "print(\"훈련 점수: {:.3f}\".format(best_score))"
      ]
    },
    {
      "cell_type": "code",
      "execution_count": 14,
      "metadata": {
        "id": "j9U_O4ivVlSb",
        "outputId": "547b36a7-e3e3-44ce-e69b-86acdffaa57a",
        "colab": {
          "base_uri": "https://localhost:8080/"
        }
      },
      "outputs": [
        {
          "output_type": "stream",
          "name": "stdout",
          "text": [
            "테스트 점수: 864.670\n"
          ]
        }
      ],
      "source": [
        "# 최상의 모델을 추출합니다.\n",
        "best_model = grid_reg.best_estimator_\n",
        "\n",
        "# 테스트 세트에서 예측을 만듭니다.\n",
        "y_pred = best_model.predict(X_test)\n",
        "\n",
        "# mean_squared_error를 임포트합니다.\n",
        "from sklearn.metrics import mean_squared_error\n",
        "\n",
        "# 테스트 세트의 제곱근 오차를 계산합니다.\n",
        "rmse_test = mean_squared_error(y_test, y_pred)**0.5\n",
        "\n",
        "# 테스트 세트 점수를 출력합니다.\n",
        "print('테스트 점수: {:.3f}'.format(rmse_test))"
      ]
    },
    {
      "cell_type": "markdown",
      "metadata": {
        "id": "hmgtmjK5VlSb"
      },
      "source": [
        "#### min_samples_leaf"
      ]
    },
    {
      "cell_type": "code",
      "execution_count": 15,
      "metadata": {
        "id": "3AQQdNBnVlSb"
      },
      "outputs": [],
      "source": [
        "# grid_search 함수를 만듭니다.\n",
        "def grid_search(params, reg=DecisionTreeRegressor(random_state=2)):\n",
        "\n",
        "    # GridSearchCV 객체를 만듭니다.\n",
        "    grid_reg = GridSearchCV(reg, params, scoring='neg_mean_squared_error', cv=5, n_jobs=-1)\n",
        "    \n",
        "    # X_train와 y_train에서 그리드 서치를 수행합니다.\n",
        "    grid_reg.fit(X_train, y_train)\n",
        "\n",
        "    # 최상의 매개변수를 추출합니다.\n",
        "    best_params = grid_reg.best_params_\n",
        "\n",
        "    # 최상의 매개변수를 출력합니다.\n",
        "    print(\"최상의 매개변수\u001b:\", best_params)\n",
        "    \n",
        "    # 최상의 점수를 계산합니다.\n",
        "    best_score = np.sqrt(-grid_reg.best_score_)\n",
        "\n",
        "    # 최상의 점수를 출력합니다.\n",
        "    print(\"훈련 점수: {:.3f}\".format(best_score))\n",
        "\n",
        "    # 테스트 세트에 대한 예측을 만듭니다.\n",
        "    y_pred = grid_reg.predict(X_test)\n",
        "\n",
        "    # 평균 제곱근 오차를 계산합니다.\n",
        "    rmse_test = mean_squared_error(y_test, y_pred)**0.5\n",
        "\n",
        "    # 테스트 세트 점수를 출력합니다.\n",
        "    print('테스트 점수: {:.3f}'.format(rmse_test))"
      ]
    },
    {
      "cell_type": "code",
      "execution_count": 16,
      "metadata": {
        "id": "PuD1xsqhVlSc",
        "outputId": "cc2e3d26-cdea-4a06-81fb-d333c0bb63ba",
        "colab": {
          "base_uri": "https://localhost:8080/"
        }
      },
      "outputs": [
        {
          "output_type": "execute_result",
          "data": {
            "text/plain": [
              "(548, 12)"
            ]
          },
          "metadata": {},
          "execution_count": 16
        }
      ],
      "source": [
        "X_train.shape"
      ]
    },
    {
      "cell_type": "code",
      "execution_count": 17,
      "metadata": {
        "scrolled": true,
        "id": "l8hNna31VlSc",
        "outputId": "8a8042f9-0115-4c03-d7bb-bf4809273a30",
        "colab": {
          "base_uri": "https://localhost:8080/"
        }
      },
      "outputs": [
        {
          "output_type": "stream",
          "name": "stdout",
          "text": [
            "최상의 매개변수\u001b: {'min_samples_leaf': 8}\n",
            "훈련 점수: 896.083\n",
            "테스트 점수: 855.620\n"
          ]
        }
      ],
      "source": [
        "grid_search(params={'min_samples_leaf':[1,2,4,6,8,10,20,30]})"
      ]
    },
    {
      "cell_type": "code",
      "execution_count": 18,
      "metadata": {
        "id": "LKR-pIH_VlSc",
        "outputId": "ba64af65-4051-4ad8-d903-a8934799e7c8",
        "colab": {
          "base_uri": "https://localhost:8080/"
        }
      },
      "outputs": [
        {
          "output_type": "stream",
          "name": "stdout",
          "text": [
            "최상의 매개변수\u001b: {'max_depth': 6, 'min_samples_leaf': 2}\n",
            "훈련 점수: 870.396\n",
            "테스트 점수: 913.000\n"
          ]
        }
      ],
      "source": [
        "grid_search(params={'max_depth':[None,2,3,4,6,8,10,20],'min_samples_leaf':[1,2,4,6,8,10,20,30]})"
      ]
    },
    {
      "cell_type": "code",
      "execution_count": 19,
      "metadata": {
        "scrolled": true,
        "id": "850Y4D7sVlSd",
        "outputId": "fb17aa72-8cad-4c99-c636-c7b759cb0078",
        "colab": {
          "base_uri": "https://localhost:8080/"
        }
      },
      "outputs": [
        {
          "output_type": "stream",
          "name": "stdout",
          "text": [
            "최상의 매개변수\u001b: {'max_depth': 9, 'min_samples_leaf': 7}\n",
            "훈련 점수: 888.905\n",
            "테스트 점수: 878.538\n"
          ]
        }
      ],
      "source": [
        "grid_search(params={'max_depth':[6,7,8,9,10],'min_samples_leaf':[3,5,7,9]})"
      ]
    },
    {
      "cell_type": "markdown",
      "metadata": {
        "id": "GEz5OhmvVlSd"
      },
      "source": [
        "## 사례 연구 - 심장 질환\n",
        "\n",
        "### 심장 질환 데이터셋"
      ]
    },
    {
      "cell_type": "code",
      "execution_count": 20,
      "metadata": {
        "id": "GK3ey3IUVlSd",
        "outputId": "12d6426f-8f35-456f-b1f3-168f8c3a6486",
        "colab": {
          "base_uri": "https://localhost:8080/",
          "height": 206
        }
      },
      "outputs": [
        {
          "output_type": "execute_result",
          "data": {
            "text/plain": [
              "   age  sex  cp  trestbps  chol  fbs  restecg  thalach  exang  oldpeak  slope  \\\n",
              "0   63    1   3       145   233    1        0      150      0      2.3      0   \n",
              "1   37    1   2       130   250    0        1      187      0      3.5      0   \n",
              "2   41    0   1       130   204    0        0      172      0      1.4      2   \n",
              "3   56    1   1       120   236    0        1      178      0      0.8      2   \n",
              "4   57    0   0       120   354    0        1      163      1      0.6      2   \n",
              "\n",
              "   ca  thal  target  \n",
              "0   0     1       1  \n",
              "1   0     2       1  \n",
              "2   0     2       1  \n",
              "3   0     2       1  \n",
              "4   0     2       1  "
            ],
            "text/html": [
              "\n",
              "  <div id=\"df-facf5149-2992-46fc-b3e5-2b8054ab6386\">\n",
              "    <div class=\"colab-df-container\">\n",
              "      <div>\n",
              "<style scoped>\n",
              "    .dataframe tbody tr th:only-of-type {\n",
              "        vertical-align: middle;\n",
              "    }\n",
              "\n",
              "    .dataframe tbody tr th {\n",
              "        vertical-align: top;\n",
              "    }\n",
              "\n",
              "    .dataframe thead th {\n",
              "        text-align: right;\n",
              "    }\n",
              "</style>\n",
              "<table border=\"1\" class=\"dataframe\">\n",
              "  <thead>\n",
              "    <tr style=\"text-align: right;\">\n",
              "      <th></th>\n",
              "      <th>age</th>\n",
              "      <th>sex</th>\n",
              "      <th>cp</th>\n",
              "      <th>trestbps</th>\n",
              "      <th>chol</th>\n",
              "      <th>fbs</th>\n",
              "      <th>restecg</th>\n",
              "      <th>thalach</th>\n",
              "      <th>exang</th>\n",
              "      <th>oldpeak</th>\n",
              "      <th>slope</th>\n",
              "      <th>ca</th>\n",
              "      <th>thal</th>\n",
              "      <th>target</th>\n",
              "    </tr>\n",
              "  </thead>\n",
              "  <tbody>\n",
              "    <tr>\n",
              "      <th>0</th>\n",
              "      <td>63</td>\n",
              "      <td>1</td>\n",
              "      <td>3</td>\n",
              "      <td>145</td>\n",
              "      <td>233</td>\n",
              "      <td>1</td>\n",
              "      <td>0</td>\n",
              "      <td>150</td>\n",
              "      <td>0</td>\n",
              "      <td>2.3</td>\n",
              "      <td>0</td>\n",
              "      <td>0</td>\n",
              "      <td>1</td>\n",
              "      <td>1</td>\n",
              "    </tr>\n",
              "    <tr>\n",
              "      <th>1</th>\n",
              "      <td>37</td>\n",
              "      <td>1</td>\n",
              "      <td>2</td>\n",
              "      <td>130</td>\n",
              "      <td>250</td>\n",
              "      <td>0</td>\n",
              "      <td>1</td>\n",
              "      <td>187</td>\n",
              "      <td>0</td>\n",
              "      <td>3.5</td>\n",
              "      <td>0</td>\n",
              "      <td>0</td>\n",
              "      <td>2</td>\n",
              "      <td>1</td>\n",
              "    </tr>\n",
              "    <tr>\n",
              "      <th>2</th>\n",
              "      <td>41</td>\n",
              "      <td>0</td>\n",
              "      <td>1</td>\n",
              "      <td>130</td>\n",
              "      <td>204</td>\n",
              "      <td>0</td>\n",
              "      <td>0</td>\n",
              "      <td>172</td>\n",
              "      <td>0</td>\n",
              "      <td>1.4</td>\n",
              "      <td>2</td>\n",
              "      <td>0</td>\n",
              "      <td>2</td>\n",
              "      <td>1</td>\n",
              "    </tr>\n",
              "    <tr>\n",
              "      <th>3</th>\n",
              "      <td>56</td>\n",
              "      <td>1</td>\n",
              "      <td>1</td>\n",
              "      <td>120</td>\n",
              "      <td>236</td>\n",
              "      <td>0</td>\n",
              "      <td>1</td>\n",
              "      <td>178</td>\n",
              "      <td>0</td>\n",
              "      <td>0.8</td>\n",
              "      <td>2</td>\n",
              "      <td>0</td>\n",
              "      <td>2</td>\n",
              "      <td>1</td>\n",
              "    </tr>\n",
              "    <tr>\n",
              "      <th>4</th>\n",
              "      <td>57</td>\n",
              "      <td>0</td>\n",
              "      <td>0</td>\n",
              "      <td>120</td>\n",
              "      <td>354</td>\n",
              "      <td>0</td>\n",
              "      <td>1</td>\n",
              "      <td>163</td>\n",
              "      <td>1</td>\n",
              "      <td>0.6</td>\n",
              "      <td>2</td>\n",
              "      <td>0</td>\n",
              "      <td>2</td>\n",
              "      <td>1</td>\n",
              "    </tr>\n",
              "  </tbody>\n",
              "</table>\n",
              "</div>\n",
              "      <button class=\"colab-df-convert\" onclick=\"convertToInteractive('df-facf5149-2992-46fc-b3e5-2b8054ab6386')\"\n",
              "              title=\"Convert this dataframe to an interactive table.\"\n",
              "              style=\"display:none;\">\n",
              "        \n",
              "  <svg xmlns=\"http://www.w3.org/2000/svg\" height=\"24px\"viewBox=\"0 0 24 24\"\n",
              "       width=\"24px\">\n",
              "    <path d=\"M0 0h24v24H0V0z\" fill=\"none\"/>\n",
              "    <path d=\"M18.56 5.44l.94 2.06.94-2.06 2.06-.94-2.06-.94-.94-2.06-.94 2.06-2.06.94zm-11 1L8.5 8.5l.94-2.06 2.06-.94-2.06-.94L8.5 2.5l-.94 2.06-2.06.94zm10 10l.94 2.06.94-2.06 2.06-.94-2.06-.94-.94-2.06-.94 2.06-2.06.94z\"/><path d=\"M17.41 7.96l-1.37-1.37c-.4-.4-.92-.59-1.43-.59-.52 0-1.04.2-1.43.59L10.3 9.45l-7.72 7.72c-.78.78-.78 2.05 0 2.83L4 21.41c.39.39.9.59 1.41.59.51 0 1.02-.2 1.41-.59l7.78-7.78 2.81-2.81c.8-.78.8-2.07 0-2.86zM5.41 20L4 18.59l7.72-7.72 1.47 1.35L5.41 20z\"/>\n",
              "  </svg>\n",
              "      </button>\n",
              "      \n",
              "  <style>\n",
              "    .colab-df-container {\n",
              "      display:flex;\n",
              "      flex-wrap:wrap;\n",
              "      gap: 12px;\n",
              "    }\n",
              "\n",
              "    .colab-df-convert {\n",
              "      background-color: #E8F0FE;\n",
              "      border: none;\n",
              "      border-radius: 50%;\n",
              "      cursor: pointer;\n",
              "      display: none;\n",
              "      fill: #1967D2;\n",
              "      height: 32px;\n",
              "      padding: 0 0 0 0;\n",
              "      width: 32px;\n",
              "    }\n",
              "\n",
              "    .colab-df-convert:hover {\n",
              "      background-color: #E2EBFA;\n",
              "      box-shadow: 0px 1px 2px rgba(60, 64, 67, 0.3), 0px 1px 3px 1px rgba(60, 64, 67, 0.15);\n",
              "      fill: #174EA6;\n",
              "    }\n",
              "\n",
              "    [theme=dark] .colab-df-convert {\n",
              "      background-color: #3B4455;\n",
              "      fill: #D2E3FC;\n",
              "    }\n",
              "\n",
              "    [theme=dark] .colab-df-convert:hover {\n",
              "      background-color: #434B5C;\n",
              "      box-shadow: 0px 1px 3px 1px rgba(0, 0, 0, 0.15);\n",
              "      filter: drop-shadow(0px 1px 2px rgba(0, 0, 0, 0.3));\n",
              "      fill: #FFFFFF;\n",
              "    }\n",
              "  </style>\n",
              "\n",
              "      <script>\n",
              "        const buttonEl =\n",
              "          document.querySelector('#df-facf5149-2992-46fc-b3e5-2b8054ab6386 button.colab-df-convert');\n",
              "        buttonEl.style.display =\n",
              "          google.colab.kernel.accessAllowed ? 'block' : 'none';\n",
              "\n",
              "        async function convertToInteractive(key) {\n",
              "          const element = document.querySelector('#df-facf5149-2992-46fc-b3e5-2b8054ab6386');\n",
              "          const dataTable =\n",
              "            await google.colab.kernel.invokeFunction('convertToInteractive',\n",
              "                                                     [key], {});\n",
              "          if (!dataTable) return;\n",
              "\n",
              "          const docLinkHtml = 'Like what you see? Visit the ' +\n",
              "            '<a target=\"_blank\" href=https://colab.research.google.com/notebooks/data_table.ipynb>data table notebook</a>'\n",
              "            + ' to learn more about interactive tables.';\n",
              "          element.innerHTML = '';\n",
              "          dataTable['output_type'] = 'display_data';\n",
              "          await google.colab.output.renderOutput(dataTable, element);\n",
              "          const docLink = document.createElement('div');\n",
              "          docLink.innerHTML = docLinkHtml;\n",
              "          element.appendChild(docLink);\n",
              "        }\n",
              "      </script>\n",
              "    </div>\n",
              "  </div>\n",
              "  "
            ]
          },
          "metadata": {},
          "execution_count": 20
        }
      ],
      "source": [
        "# heart_disease.csv를 데이터프레임으로 로드합니다.\n",
        "df_heart = pd.read_csv('heart_disease.csv')\n",
        "\n",
        "# 처음 다섯 개 행을 출력합니다.\n",
        "df_heart.head()"
      ]
    },
    {
      "cell_type": "code",
      "execution_count": 21,
      "metadata": {
        "id": "O2GX7mhoVlSd"
      },
      "outputs": [],
      "source": [
        "# 데이터를 X와 y로 나눕니.\n",
        "X = df_heart.iloc[:,:-1]\n",
        "y = df_heart.iloc[:,-1]\n",
        "\n",
        "# 데이터를 훈련 세트와 테스트 세트로 나눕니다.\n",
        "X_train, X_test, y_train, y_test = train_test_split(X, y, random_state=2)"
      ]
    },
    {
      "cell_type": "markdown",
      "metadata": {
        "id": "dNyEoWHmVlSe"
      },
      "source": [
        "### 결정 트리 분류기"
      ]
    },
    {
      "cell_type": "code",
      "execution_count": 22,
      "metadata": {
        "id": "EbdcA8E5VlSe",
        "outputId": "4e2463cd-5297-4ef6-90b5-ac80c0200704",
        "colab": {
          "base_uri": "https://localhost:8080/"
        }
      },
      "outputs": [
        {
          "output_type": "stream",
          "name": "stdout",
          "text": [
            "정확도: [0.74 0.85 0.77 0.73 0.7 ]\n",
            "정확도 평균: 0.76\n"
          ]
        }
      ],
      "source": [
        "# DecisionTreeClassifier 객체를 만듭니다.\n",
        "model = DecisionTreeClassifier(random_state=2)\n",
        "\n",
        "# 교차 검증 점수를 계산합니다.\n",
        "scores = cross_val_score(model, X, y, cv=5)\n",
        "\n",
        "# 정확도를 출력합니다.\n",
        "print('정확도:', np.round(scores, 2))\n",
        "\n",
        "# 평균 정확도를 출력합니다.\n",
        "print('정확도 평균: %0.2f' % (scores.mean()))"
      ]
    },
    {
      "cell_type": "markdown",
      "metadata": {
        "id": "Gb05GPTPVlSe"
      },
      "source": [
        "#### RandomizedSearchCV"
      ]
    },
    {
      "cell_type": "code",
      "execution_count": 23,
      "metadata": {
        "id": "v-3oBWt8VlSe"
      },
      "outputs": [],
      "source": [
        "# RandomizedSearchCV를 임포트합니다.\n",
        "from sklearn.model_selection import RandomizedSearchCV\n",
        "\n",
        "def randomized_search_clf(params, runs=20, clf=DecisionTreeClassifier(random_state=2)):\n",
        "\n",
        "    # RandomizedSearchCV 객체를 만듭니다.\n",
        "    rand_clf = RandomizedSearchCV(clf, params, n_iter=runs, \n",
        "                                  cv=5, n_jobs=-1, random_state=2)\n",
        "    \n",
        "    # X_train와 y_train에서 랜덤 서치를 수행합니다.\n",
        "    rand_clf.fit(X_train, y_train)\n",
        "\n",
        "    # 최상의 모델을 추출합니다.\n",
        "    best_model = rand_clf.best_estimator_\n",
        "    \n",
        "    # 최상의 점수를 추출합니다.\n",
        "    best_score = rand_clf.best_score_\n",
        "\n",
        "    # 최상의 점수를 출력합니다.\n",
        "    print(\"훈련 점수: {:.3f}\".format(best_score))\n",
        "\n",
        "    # 테스트 세트에 대한 예측을 만듭니다.\n",
        "    y_pred = best_model.predict(X_test)\n",
        "\n",
        "    # 정확도를 계산합니다.\n",
        "    accuracy = accuracy_score(y_test, y_pred)\n",
        "\n",
        "    # 정확도를 출력합니다.\n",
        "    print('테스트 점수: {:.3f}'.format(accuracy))\n",
        "        \n",
        "    # 최상의 모델을 반환합니다.\n",
        "    return best_model"
      ]
    },
    {
      "cell_type": "markdown",
      "metadata": {
        "id": "rua1qRapVlSf"
      },
      "source": [
        "### 하이퍼파라미터 선택"
      ]
    },
    {
      "cell_type": "code",
      "execution_count": 24,
      "metadata": {
        "scrolled": true,
        "id": "sTvHY3bRVlSf",
        "outputId": "c3d27fda-a28f-4aac-a3d0-f4860ed5bec0",
        "colab": {
          "base_uri": "https://localhost:8080/",
          "height": 161
        }
      },
      "outputs": [
        {
          "output_type": "stream",
          "name": "stdout",
          "text": [
            "훈련 점수: 0.798\n",
            "테스트 점수: 0.855\n"
          ]
        },
        {
          "output_type": "execute_result",
          "data": {
            "text/plain": [
              "DecisionTreeClassifier(criterion='entropy', max_depth=8, max_features=0.8,\n",
              "                       max_leaf_nodes=45, min_samples_leaf=0.04,\n",
              "                       min_samples_split=10, min_weight_fraction_leaf=0.05,\n",
              "                       random_state=2)"
            ],
            "text/html": [
              "<style>#sk-container-id-1 {color: black;background-color: white;}#sk-container-id-1 pre{padding: 0;}#sk-container-id-1 div.sk-toggleable {background-color: white;}#sk-container-id-1 label.sk-toggleable__label {cursor: pointer;display: block;width: 100%;margin-bottom: 0;padding: 0.3em;box-sizing: border-box;text-align: center;}#sk-container-id-1 label.sk-toggleable__label-arrow:before {content: \"▸\";float: left;margin-right: 0.25em;color: #696969;}#sk-container-id-1 label.sk-toggleable__label-arrow:hover:before {color: black;}#sk-container-id-1 div.sk-estimator:hover label.sk-toggleable__label-arrow:before {color: black;}#sk-container-id-1 div.sk-toggleable__content {max-height: 0;max-width: 0;overflow: hidden;text-align: left;background-color: #f0f8ff;}#sk-container-id-1 div.sk-toggleable__content pre {margin: 0.2em;color: black;border-radius: 0.25em;background-color: #f0f8ff;}#sk-container-id-1 input.sk-toggleable__control:checked~div.sk-toggleable__content {max-height: 200px;max-width: 100%;overflow: auto;}#sk-container-id-1 input.sk-toggleable__control:checked~label.sk-toggleable__label-arrow:before {content: \"▾\";}#sk-container-id-1 div.sk-estimator input.sk-toggleable__control:checked~label.sk-toggleable__label {background-color: #d4ebff;}#sk-container-id-1 div.sk-label input.sk-toggleable__control:checked~label.sk-toggleable__label {background-color: #d4ebff;}#sk-container-id-1 input.sk-hidden--visually {border: 0;clip: rect(1px 1px 1px 1px);clip: rect(1px, 1px, 1px, 1px);height: 1px;margin: -1px;overflow: hidden;padding: 0;position: absolute;width: 1px;}#sk-container-id-1 div.sk-estimator {font-family: monospace;background-color: #f0f8ff;border: 1px dotted black;border-radius: 0.25em;box-sizing: border-box;margin-bottom: 0.5em;}#sk-container-id-1 div.sk-estimator:hover {background-color: #d4ebff;}#sk-container-id-1 div.sk-parallel-item::after {content: \"\";width: 100%;border-bottom: 1px solid gray;flex-grow: 1;}#sk-container-id-1 div.sk-label:hover label.sk-toggleable__label {background-color: #d4ebff;}#sk-container-id-1 div.sk-serial::before {content: \"\";position: absolute;border-left: 1px solid gray;box-sizing: border-box;top: 0;bottom: 0;left: 50%;z-index: 0;}#sk-container-id-1 div.sk-serial {display: flex;flex-direction: column;align-items: center;background-color: white;padding-right: 0.2em;padding-left: 0.2em;position: relative;}#sk-container-id-1 div.sk-item {position: relative;z-index: 1;}#sk-container-id-1 div.sk-parallel {display: flex;align-items: stretch;justify-content: center;background-color: white;position: relative;}#sk-container-id-1 div.sk-item::before, #sk-container-id-1 div.sk-parallel-item::before {content: \"\";position: absolute;border-left: 1px solid gray;box-sizing: border-box;top: 0;bottom: 0;left: 50%;z-index: -1;}#sk-container-id-1 div.sk-parallel-item {display: flex;flex-direction: column;z-index: 1;position: relative;background-color: white;}#sk-container-id-1 div.sk-parallel-item:first-child::after {align-self: flex-end;width: 50%;}#sk-container-id-1 div.sk-parallel-item:last-child::after {align-self: flex-start;width: 50%;}#sk-container-id-1 div.sk-parallel-item:only-child::after {width: 0;}#sk-container-id-1 div.sk-dashed-wrapped {border: 1px dashed gray;margin: 0 0.4em 0.5em 0.4em;box-sizing: border-box;padding-bottom: 0.4em;background-color: white;}#sk-container-id-1 div.sk-label label {font-family: monospace;font-weight: bold;display: inline-block;line-height: 1.2em;}#sk-container-id-1 div.sk-label-container {text-align: center;}#sk-container-id-1 div.sk-container {/* jupyter's `normalize.less` sets `[hidden] { display: none; }` but bootstrap.min.css set `[hidden] { display: none !important; }` so we also need the `!important` here to be able to override the default hidden behavior on the sphinx rendered scikit-learn.org. See: https://github.com/scikit-learn/scikit-learn/issues/21755 */display: inline-block !important;position: relative;}#sk-container-id-1 div.sk-text-repr-fallback {display: none;}</style><div id=\"sk-container-id-1\" class=\"sk-top-container\"><div class=\"sk-text-repr-fallback\"><pre>DecisionTreeClassifier(criterion=&#x27;entropy&#x27;, max_depth=8, max_features=0.8,\n",
              "                       max_leaf_nodes=45, min_samples_leaf=0.04,\n",
              "                       min_samples_split=10, min_weight_fraction_leaf=0.05,\n",
              "                       random_state=2)</pre><b>In a Jupyter environment, please rerun this cell to show the HTML representation or trust the notebook. <br />On GitHub, the HTML representation is unable to render, please try loading this page with nbviewer.org.</b></div><div class=\"sk-container\" hidden><div class=\"sk-item\"><div class=\"sk-estimator sk-toggleable\"><input class=\"sk-toggleable__control sk-hidden--visually\" id=\"sk-estimator-id-1\" type=\"checkbox\" checked><label for=\"sk-estimator-id-1\" class=\"sk-toggleable__label sk-toggleable__label-arrow\">DecisionTreeClassifier</label><div class=\"sk-toggleable__content\"><pre>DecisionTreeClassifier(criterion=&#x27;entropy&#x27;, max_depth=8, max_features=0.8,\n",
              "                       max_leaf_nodes=45, min_samples_leaf=0.04,\n",
              "                       min_samples_split=10, min_weight_fraction_leaf=0.05,\n",
              "                       random_state=2)</pre></div></div></div></div></div>"
            ]
          },
          "metadata": {},
          "execution_count": 24
        }
      ],
      "source": [
        "randomized_search_clf(\n",
        "    params={\n",
        "        'criterion':['entropy', 'gini'],\n",
        "        'splitter':['random', 'best'],\n",
        "        'min_samples_split':[2, 3, 4, 5, 6, 8, 10],\n",
        "        'min_samples_leaf':[1, 0.01, 0.02, 0.03, 0.04],\n",
        "        'min_impurity_decrease':[0.0, 0.0005, 0.005, 0.05, 0.10, 0.15, 0.2],\n",
        "        'max_leaf_nodes':[10, 15, 20, 25, 30, 35, 40, 45, 50, None],\n",
        "        'max_features':['sqrt', 0.95, 0.90, 0.85, 0.80, 0.75, 0.70],\n",
        "        'max_depth':[None, 2,4,6,8],\n",
        "        'min_weight_fraction_leaf':[0.0, 0.0025, 0.005, 0.0075, 0.01, 0.05]\n",
        "    })"
      ]
    },
    {
      "cell_type": "markdown",
      "metadata": {
        "id": "xtZzZ8-kVlSf"
      },
      "source": [
        "### 탐색 범위 좁히기"
      ]
    },
    {
      "cell_type": "code",
      "execution_count": 25,
      "metadata": {
        "scrolled": true,
        "id": "PP3GVaxdVlSg",
        "outputId": "d0b4eab6-bff3-49e0-fdbf-29058b24b17b",
        "colab": {
          "base_uri": "https://localhost:8080/",
          "height": 144
        }
      },
      "outputs": [
        {
          "output_type": "stream",
          "name": "stdout",
          "text": [
            "훈련 점수: 0.802\n",
            "테스트 점수: 0.868\n"
          ]
        },
        {
          "output_type": "execute_result",
          "data": {
            "text/plain": [
              "DecisionTreeClassifier(max_depth=9, max_features=0.78, max_leaf_nodes=45,\n",
              "                       min_samples_leaf=0.045, min_samples_split=9,\n",
              "                       min_weight_fraction_leaf=0.06, random_state=2)"
            ],
            "text/html": [
              "<style>#sk-container-id-2 {color: black;background-color: white;}#sk-container-id-2 pre{padding: 0;}#sk-container-id-2 div.sk-toggleable {background-color: white;}#sk-container-id-2 label.sk-toggleable__label {cursor: pointer;display: block;width: 100%;margin-bottom: 0;padding: 0.3em;box-sizing: border-box;text-align: center;}#sk-container-id-2 label.sk-toggleable__label-arrow:before {content: \"▸\";float: left;margin-right: 0.25em;color: #696969;}#sk-container-id-2 label.sk-toggleable__label-arrow:hover:before {color: black;}#sk-container-id-2 div.sk-estimator:hover label.sk-toggleable__label-arrow:before {color: black;}#sk-container-id-2 div.sk-toggleable__content {max-height: 0;max-width: 0;overflow: hidden;text-align: left;background-color: #f0f8ff;}#sk-container-id-2 div.sk-toggleable__content pre {margin: 0.2em;color: black;border-radius: 0.25em;background-color: #f0f8ff;}#sk-container-id-2 input.sk-toggleable__control:checked~div.sk-toggleable__content {max-height: 200px;max-width: 100%;overflow: auto;}#sk-container-id-2 input.sk-toggleable__control:checked~label.sk-toggleable__label-arrow:before {content: \"▾\";}#sk-container-id-2 div.sk-estimator input.sk-toggleable__control:checked~label.sk-toggleable__label {background-color: #d4ebff;}#sk-container-id-2 div.sk-label input.sk-toggleable__control:checked~label.sk-toggleable__label {background-color: #d4ebff;}#sk-container-id-2 input.sk-hidden--visually {border: 0;clip: rect(1px 1px 1px 1px);clip: rect(1px, 1px, 1px, 1px);height: 1px;margin: -1px;overflow: hidden;padding: 0;position: absolute;width: 1px;}#sk-container-id-2 div.sk-estimator {font-family: monospace;background-color: #f0f8ff;border: 1px dotted black;border-radius: 0.25em;box-sizing: border-box;margin-bottom: 0.5em;}#sk-container-id-2 div.sk-estimator:hover {background-color: #d4ebff;}#sk-container-id-2 div.sk-parallel-item::after {content: \"\";width: 100%;border-bottom: 1px solid gray;flex-grow: 1;}#sk-container-id-2 div.sk-label:hover label.sk-toggleable__label {background-color: #d4ebff;}#sk-container-id-2 div.sk-serial::before {content: \"\";position: absolute;border-left: 1px solid gray;box-sizing: border-box;top: 0;bottom: 0;left: 50%;z-index: 0;}#sk-container-id-2 div.sk-serial {display: flex;flex-direction: column;align-items: center;background-color: white;padding-right: 0.2em;padding-left: 0.2em;position: relative;}#sk-container-id-2 div.sk-item {position: relative;z-index: 1;}#sk-container-id-2 div.sk-parallel {display: flex;align-items: stretch;justify-content: center;background-color: white;position: relative;}#sk-container-id-2 div.sk-item::before, #sk-container-id-2 div.sk-parallel-item::before {content: \"\";position: absolute;border-left: 1px solid gray;box-sizing: border-box;top: 0;bottom: 0;left: 50%;z-index: -1;}#sk-container-id-2 div.sk-parallel-item {display: flex;flex-direction: column;z-index: 1;position: relative;background-color: white;}#sk-container-id-2 div.sk-parallel-item:first-child::after {align-self: flex-end;width: 50%;}#sk-container-id-2 div.sk-parallel-item:last-child::after {align-self: flex-start;width: 50%;}#sk-container-id-2 div.sk-parallel-item:only-child::after {width: 0;}#sk-container-id-2 div.sk-dashed-wrapped {border: 1px dashed gray;margin: 0 0.4em 0.5em 0.4em;box-sizing: border-box;padding-bottom: 0.4em;background-color: white;}#sk-container-id-2 div.sk-label label {font-family: monospace;font-weight: bold;display: inline-block;line-height: 1.2em;}#sk-container-id-2 div.sk-label-container {text-align: center;}#sk-container-id-2 div.sk-container {/* jupyter's `normalize.less` sets `[hidden] { display: none; }` but bootstrap.min.css set `[hidden] { display: none !important; }` so we also need the `!important` here to be able to override the default hidden behavior on the sphinx rendered scikit-learn.org. See: https://github.com/scikit-learn/scikit-learn/issues/21755 */display: inline-block !important;position: relative;}#sk-container-id-2 div.sk-text-repr-fallback {display: none;}</style><div id=\"sk-container-id-2\" class=\"sk-top-container\"><div class=\"sk-text-repr-fallback\"><pre>DecisionTreeClassifier(max_depth=9, max_features=0.78, max_leaf_nodes=45,\n",
              "                       min_samples_leaf=0.045, min_samples_split=9,\n",
              "                       min_weight_fraction_leaf=0.06, random_state=2)</pre><b>In a Jupyter environment, please rerun this cell to show the HTML representation or trust the notebook. <br />On GitHub, the HTML representation is unable to render, please try loading this page with nbviewer.org.</b></div><div class=\"sk-container\" hidden><div class=\"sk-item\"><div class=\"sk-estimator sk-toggleable\"><input class=\"sk-toggleable__control sk-hidden--visually\" id=\"sk-estimator-id-2\" type=\"checkbox\" checked><label for=\"sk-estimator-id-2\" class=\"sk-toggleable__label sk-toggleable__label-arrow\">DecisionTreeClassifier</label><div class=\"sk-toggleable__content\"><pre>DecisionTreeClassifier(max_depth=9, max_features=0.78, max_leaf_nodes=45,\n",
              "                       min_samples_leaf=0.045, min_samples_split=9,\n",
              "                       min_weight_fraction_leaf=0.06, random_state=2)</pre></div></div></div></div></div>"
            ]
          },
          "metadata": {},
          "execution_count": 25
        }
      ],
      "source": [
        "best_model = randomized_search_clf(\n",
        "    params={'max_depth':[None, 7, 9],\n",
        "            'max_features':['sqrt', 0.78],\n",
        "            'max_leaf_nodes':[45, None],\n",
        "            'min_samples_leaf':[1, 0.035, 0.04, 0.045, 0.05],\n",
        "            'min_samples_split':[2, 9, 10],\n",
        "            'min_weight_fraction_leaf': [0.0, 0.05, 0.06, 0.07],\n",
        "            },\n",
        "    runs=100)\n",
        "best_model"
      ]
    },
    {
      "cell_type": "code",
      "execution_count": 26,
      "metadata": {
        "id": "1IqbdZL5VlSg",
        "outputId": "3a074b04-9c47-4aef-80cb-023db50eadb6",
        "colab": {
          "base_uri": "https://localhost:8080/"
        }
      },
      "outputs": [
        {
          "output_type": "stream",
          "name": "stdout",
          "text": [
            "정확도: [0.82 0.9  0.8  0.8  0.78]\n",
            "정확도 평균: 0.82\n"
          ]
        }
      ],
      "source": [
        "# 교차 검증 점수를 계산합니다.\n",
        "scores = cross_val_score(best_model, X, y, cv=5)\n",
        "\n",
        "# 정확도를 출력합니다.\n",
        "print('정확도:', np.round(scores, 2))\n",
        "\n",
        "# 평균 정확도를 출력합니다.\n",
        "print('정확도 평균: %0.2f' % (scores.mean()))"
      ]
    },
    {
      "cell_type": "markdown",
      "metadata": {
        "id": "pvOuzs07VlSg"
      },
      "source": [
        "`loguniform`을 사용한 랜덤 서치"
      ]
    },
    {
      "cell_type": "code",
      "execution_count": 27,
      "metadata": {
        "scrolled": true,
        "id": "LpLLhqaQVlSh",
        "outputId": "a02b07a8-b3d8-4a5f-b8f8-bb34f72a279f",
        "colab": {
          "base_uri": "https://localhost:8080/"
        }
      },
      "outputs": [
        {
          "output_type": "stream",
          "name": "stdout",
          "text": [
            "최상의 교차 검증 점수: 0.7932367149758455\n",
            "최상의 매개변수: {'max_depth': 48, 'max_features': 0.43091880545542754, 'max_leaf_nodes': 68, 'min_impurity_decrease': 0.0013196080073784372, 'min_samples_leaf': 0.005935250363740932, 'min_samples_split': 0.00027243167437771866, 'min_weight_fraction_leaf': 0.03410935690756259}\n"
          ]
        }
      ],
      "source": [
        "from sklearn.utils.fixes import loguniform\n",
        "from scipy.stats import randint\n",
        "\n",
        "params = {'max_depth': randint(1,100),\n",
        "          'max_leaf_nodes': randint(1,100),\n",
        "          'max_features': loguniform(1e-5,1),\n",
        "          'min_samples_split': loguniform(1e-5,1),\n",
        "          'min_samples_leaf': loguniform(1e-5,1),\n",
        "          'min_impurity_decrease': loguniform(1e-5,1),\n",
        "          'min_weight_fraction_leaf': loguniform(1e-5,1)}\n",
        "\n",
        "dtc = DecisionTreeClassifier(random_state=0)\n",
        "rs = RandomizedSearchCV(dtc, params, n_iter=100, n_jobs=-1, random_state=0)\n",
        "rs.fit(X_train, y_train)\n",
        "\n",
        "print('최상의 교차 검증 점수:', rs.best_score_)\n",
        "print('최상의 매개변수:', rs.best_params_)"
      ]
    },
    {
      "cell_type": "markdown",
      "metadata": {
        "id": "ixahFsDAVlSh"
      },
      "source": [
        "### 특성 중요도"
      ]
    },
    {
      "cell_type": "code",
      "execution_count": 28,
      "metadata": {
        "id": "hRlXBjE-VlSh",
        "outputId": "5ca25aec-f9df-47fa-f0e6-229b65488d97",
        "colab": {
          "base_uri": "https://localhost:8080/",
          "height": 109
        }
      },
      "outputs": [
        {
          "output_type": "execute_result",
          "data": {
            "text/plain": [
              "DecisionTreeClassifier(max_depth=9, max_features=0.78, max_leaf_nodes=45,\n",
              "                       min_samples_leaf=0.045, min_samples_split=9,\n",
              "                       min_weight_fraction_leaf=0.06, random_state=2)"
            ],
            "text/html": [
              "<style>#sk-container-id-3 {color: black;background-color: white;}#sk-container-id-3 pre{padding: 0;}#sk-container-id-3 div.sk-toggleable {background-color: white;}#sk-container-id-3 label.sk-toggleable__label {cursor: pointer;display: block;width: 100%;margin-bottom: 0;padding: 0.3em;box-sizing: border-box;text-align: center;}#sk-container-id-3 label.sk-toggleable__label-arrow:before {content: \"▸\";float: left;margin-right: 0.25em;color: #696969;}#sk-container-id-3 label.sk-toggleable__label-arrow:hover:before {color: black;}#sk-container-id-3 div.sk-estimator:hover label.sk-toggleable__label-arrow:before {color: black;}#sk-container-id-3 div.sk-toggleable__content {max-height: 0;max-width: 0;overflow: hidden;text-align: left;background-color: #f0f8ff;}#sk-container-id-3 div.sk-toggleable__content pre {margin: 0.2em;color: black;border-radius: 0.25em;background-color: #f0f8ff;}#sk-container-id-3 input.sk-toggleable__control:checked~div.sk-toggleable__content {max-height: 200px;max-width: 100%;overflow: auto;}#sk-container-id-3 input.sk-toggleable__control:checked~label.sk-toggleable__label-arrow:before {content: \"▾\";}#sk-container-id-3 div.sk-estimator input.sk-toggleable__control:checked~label.sk-toggleable__label {background-color: #d4ebff;}#sk-container-id-3 div.sk-label input.sk-toggleable__control:checked~label.sk-toggleable__label {background-color: #d4ebff;}#sk-container-id-3 input.sk-hidden--visually {border: 0;clip: rect(1px 1px 1px 1px);clip: rect(1px, 1px, 1px, 1px);height: 1px;margin: -1px;overflow: hidden;padding: 0;position: absolute;width: 1px;}#sk-container-id-3 div.sk-estimator {font-family: monospace;background-color: #f0f8ff;border: 1px dotted black;border-radius: 0.25em;box-sizing: border-box;margin-bottom: 0.5em;}#sk-container-id-3 div.sk-estimator:hover {background-color: #d4ebff;}#sk-container-id-3 div.sk-parallel-item::after {content: \"\";width: 100%;border-bottom: 1px solid gray;flex-grow: 1;}#sk-container-id-3 div.sk-label:hover label.sk-toggleable__label {background-color: #d4ebff;}#sk-container-id-3 div.sk-serial::before {content: \"\";position: absolute;border-left: 1px solid gray;box-sizing: border-box;top: 0;bottom: 0;left: 50%;z-index: 0;}#sk-container-id-3 div.sk-serial {display: flex;flex-direction: column;align-items: center;background-color: white;padding-right: 0.2em;padding-left: 0.2em;position: relative;}#sk-container-id-3 div.sk-item {position: relative;z-index: 1;}#sk-container-id-3 div.sk-parallel {display: flex;align-items: stretch;justify-content: center;background-color: white;position: relative;}#sk-container-id-3 div.sk-item::before, #sk-container-id-3 div.sk-parallel-item::before {content: \"\";position: absolute;border-left: 1px solid gray;box-sizing: border-box;top: 0;bottom: 0;left: 50%;z-index: -1;}#sk-container-id-3 div.sk-parallel-item {display: flex;flex-direction: column;z-index: 1;position: relative;background-color: white;}#sk-container-id-3 div.sk-parallel-item:first-child::after {align-self: flex-end;width: 50%;}#sk-container-id-3 div.sk-parallel-item:last-child::after {align-self: flex-start;width: 50%;}#sk-container-id-3 div.sk-parallel-item:only-child::after {width: 0;}#sk-container-id-3 div.sk-dashed-wrapped {border: 1px dashed gray;margin: 0 0.4em 0.5em 0.4em;box-sizing: border-box;padding-bottom: 0.4em;background-color: white;}#sk-container-id-3 div.sk-label label {font-family: monospace;font-weight: bold;display: inline-block;line-height: 1.2em;}#sk-container-id-3 div.sk-label-container {text-align: center;}#sk-container-id-3 div.sk-container {/* jupyter's `normalize.less` sets `[hidden] { display: none; }` but bootstrap.min.css set `[hidden] { display: none !important; }` so we also need the `!important` here to be able to override the default hidden behavior on the sphinx rendered scikit-learn.org. See: https://github.com/scikit-learn/scikit-learn/issues/21755 */display: inline-block !important;position: relative;}#sk-container-id-3 div.sk-text-repr-fallback {display: none;}</style><div id=\"sk-container-id-3\" class=\"sk-top-container\"><div class=\"sk-text-repr-fallback\"><pre>DecisionTreeClassifier(max_depth=9, max_features=0.78, max_leaf_nodes=45,\n",
              "                       min_samples_leaf=0.045, min_samples_split=9,\n",
              "                       min_weight_fraction_leaf=0.06, random_state=2)</pre><b>In a Jupyter environment, please rerun this cell to show the HTML representation or trust the notebook. <br />On GitHub, the HTML representation is unable to render, please try loading this page with nbviewer.org.</b></div><div class=\"sk-container\" hidden><div class=\"sk-item\"><div class=\"sk-estimator sk-toggleable\"><input class=\"sk-toggleable__control sk-hidden--visually\" id=\"sk-estimator-id-3\" type=\"checkbox\" checked><label for=\"sk-estimator-id-3\" class=\"sk-toggleable__label sk-toggleable__label-arrow\">DecisionTreeClassifier</label><div class=\"sk-toggleable__content\"><pre>DecisionTreeClassifier(max_depth=9, max_features=0.78, max_leaf_nodes=45,\n",
              "                       min_samples_leaf=0.045, min_samples_split=9,\n",
              "                       min_weight_fraction_leaf=0.06, random_state=2)</pre></div></div></div></div></div>"
            ]
          },
          "metadata": {},
          "execution_count": 28
        }
      ],
      "source": [
        "best_model.fit(X, y)"
      ]
    },
    {
      "cell_type": "code",
      "execution_count": 29,
      "metadata": {
        "id": "Tbax5tYlVlSh",
        "outputId": "1f8c621d-858f-45db-de34-726478185696",
        "colab": {
          "base_uri": "https://localhost:8080/"
        }
      },
      "outputs": [
        {
          "output_type": "execute_result",
          "data": {
            "text/plain": [
              "array([0.04826754, 0.04081653, 0.48409586, 0.00568635, 0.        ,\n",
              "       0.        , 0.        , 0.00859483, 0.        , 0.02690379,\n",
              "       0.        , 0.18069065, 0.20494446])"
            ]
          },
          "metadata": {},
          "execution_count": 29
        }
      ],
      "source": [
        "best_model.feature_importances_"
      ]
    },
    {
      "cell_type": "code",
      "execution_count": 30,
      "metadata": {
        "scrolled": true,
        "id": "Y-UWDI5CVlSi",
        "outputId": "54e6c851-1c6a-4862-8966-95ac4b043fbc",
        "colab": {
          "base_uri": "https://localhost:8080/"
        }
      },
      "outputs": [
        {
          "output_type": "execute_result",
          "data": {
            "text/plain": [
              "[('cp', 0.4840958610240171),\n",
              " ('thal', 0.20494445570568706),\n",
              " ('ca', 0.18069065321397942)]"
            ]
          },
          "metadata": {},
          "execution_count": 30
        }
      ],
      "source": [
        "# 열과 feature_importances_를 딕셔너리로 묶습니다.\n",
        "feature_dict = dict(zip(X.columns, best_model.feature_importances_))\n",
        "\n",
        "# operator를 임포트합니다.\n",
        "import operator\n",
        "\n",
        "# 튜플에 있는 값을 기준으로 딕셔너리를 정렬합니다.\n",
        "sorted(feature_dict.items(), key=operator.itemgetter(1), reverse=True)[0:3]"
      ]
    },
    {
      "cell_type": "code",
      "execution_count": 31,
      "metadata": {
        "id": "PkhmgNpmVlSi",
        "outputId": "d57c2162-6a84-4856-a446-0b5ff4243349",
        "colab": {
          "base_uri": "https://localhost:8080/"
        }
      },
      "outputs": [
        {
          "output_type": "execute_result",
          "data": {
            "text/plain": [
              "[('cp', 0.08976897689768981),\n",
              " ('thal', 0.08382838283828387),\n",
              " ('ca', 0.05940594059405944)]"
            ]
          },
          "metadata": {},
          "execution_count": 31
        }
      ],
      "source": [
        "from sklearn.inspection import permutation_importance\n",
        "\n",
        "result = permutation_importance(best_model, X, y, n_jobs=-1, random_state=0)\n",
        "\n",
        "feature_dict = dict(zip(X.columns, result.importances_mean))\n",
        "sorted(feature_dict.items(), key=operator.itemgetter(1), reverse=True)[0:3]"
      ]
    }
  ],
  "metadata": {
    "kernelspec": {
      "display_name": "default:Python",
      "language": "python",
      "name": "conda-env-default-py"
    },
    "language_info": {
      "codemirror_mode": {
        "name": "ipython",
        "version": 3
      },
      "file_extension": ".py",
      "mimetype": "text/x-python",
      "name": "python",
      "nbconvert_exporter": "python",
      "pygments_lexer": "ipython3",
      "version": "3.9.12"
    },
    "colab": {
      "provenance": []
    }
  },
  "nbformat": 4,
  "nbformat_minor": 0
}