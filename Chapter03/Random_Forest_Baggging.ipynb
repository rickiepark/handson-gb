{
  "cells": [
    {
      "cell_type": "markdown",
      "metadata": {
        "id": "O2rr_vt-9zie"
      },
      "source": [
        "# 3장. 배깅과 랜덤 포레스트"
      ]
    },
    {
      "cell_type": "markdown",
      "metadata": {
        "id": "tC1ydC2w9zip"
      },
      "source": [
        "*아래 링크를 통해 이 노트북을 주피터 노트북 뷰어(nbviewer.org)로 보거나 구글 코랩(colab.research.google.com)에서 실행할 수 있습니다.*\n",
        "\n",
        "<table class=\"tfo-notebook-buttons\" align=\"left\">\n",
        "  <td>\n",
        "    <a target=\"_blank\" href=\"https://nbviewer.org/github/rickiepark/handson-gb/blob/main/Chapter03/Random_Forest_Baggging.ipynb\"><img src=\"https://jupyter.org/assets/share.png\" width=\"60\" />주피터 노트북 뷰어로 보기</a>\n",
        "  </td>\n",
        "  <td>\n",
        "    <a target=\"_blank\" href=\"https://colab.research.google.com/github/rickiepark/handson-gb/blob/main/Chapter03/Random_Forest_Baggging.ipynb\"><img src=\"https://www.tensorflow.org/images/colab_logo_32px.png\" />구글 코랩(Colab)에서 실행하기</a>\n",
        "  </td>\n",
        "</table>"
      ]
    },
    {
      "cell_type": "code",
      "execution_count": null,
      "metadata": {
        "id": "3-NpNPKB9zir"
      },
      "outputs": [],
      "source": [
        "# 노트북이 코랩에서 실행 중인지 체크합니다.\n",
        "import sys\n",
        "if 'google.colab' in sys.modules:\n",
        "    !wget -q https://raw.githubusercontent.com/rickiepark/handson-gb/main/Chapter03/census_cleaned.csv\n",
        "    !wget -q https://raw.githubusercontent.com/rickiepark/handson-gb/main/Chapter03/bike_rentals_cleaned.csv"
      ]
    },
    {
      "cell_type": "markdown",
      "metadata": {
        "id": "yhAPsrf_9zit"
      },
      "source": [
        "## 랜덤 포레스트 살펴 보기\n",
        "\n",
        "### 랜덤 포레스트 분류 모델"
      ]
    },
    {
      "cell_type": "code",
      "execution_count": null,
      "metadata": {
        "id": "8WLH6b269ziu"
      },
      "outputs": [],
      "source": [
        "# pandas 임포트\n",
        "import pandas as pd\n",
        "\n",
        "# numpy 임포트\n",
        "import numpy as np\n",
        "\n",
        "# RandomForestClassifier 임포트\n",
        "from sklearn.ensemble import RandomForestClassifier\n",
        "\n",
        "# cross_val_score 임포트\n",
        "from sklearn.model_selection import cross_val_score\n",
        "\n",
        "# 경고 끄기\n",
        "import warnings\n",
        "warnings.filterwarnings('ignore')"
      ]
    },
    {
      "cell_type": "code",
      "execution_count": null,
      "metadata": {
        "id": "JzD-arLE9ziv"
      },
      "outputs": [],
      "source": [
        "# census_cleaned.csv 파일을 로드합니다.\n",
        "df_census = pd.read_csv('census_cleaned.csv')\n",
        "\n",
        "# 데이터를 X와 y로 나눕니다.\n",
        "X_census = df_census.iloc[:,:-1]\n",
        "y_census = df_census.iloc[:,-1]"
      ]
    },
    {
      "cell_type": "code",
      "execution_count": null,
      "metadata": {
        "id": "-ytCpLw-9ziv",
        "outputId": "2267c26e-f51d-4197-f19b-e7e23f92617d"
      },
      "outputs": [
        {
          "name": "stdout",
          "output_type": "stream",
          "text": [
            "정확도: [0.851 0.844 0.851 0.852 0.851]\n",
            "정확도 평균: 0.850\n"
          ]
        }
      ],
      "source": [
        "# 랜덤 포레스트 모델을 만듭니다. \n",
        "rf = RandomForestClassifier(n_estimators=10, random_state=2, n_jobs=-1)\n",
        "\n",
        "# 교차 검증을 수행합니다.\n",
        "scores = cross_val_score(rf, X_census, y_census, cv=5)\n",
        "\n",
        "# 정확도를 출력합니다.\n",
        "print('정확도:', np.round(scores, 3))\n",
        "\n",
        "# 평균 정확도를 출력합니다.\n",
        "print('정확도 평균: %0.3f' % (scores.mean()))"
      ]
    },
    {
      "cell_type": "markdown",
      "metadata": {
        "id": "cqBxY4A19zix"
      },
      "source": [
        "### 랜덤 포레스트 회귀 모델"
      ]
    },
    {
      "cell_type": "code",
      "execution_count": null,
      "metadata": {
        "id": "4iosr5H29ziy",
        "outputId": "c90eb626-858e-4338-9d16-f89813455c23"
      },
      "outputs": [
        {
          "data": {
            "text/html": [
              "<div>\n",
              "<style scoped>\n",
              "    .dataframe tbody tr th:only-of-type {\n",
              "        vertical-align: middle;\n",
              "    }\n",
              "\n",
              "    .dataframe tbody tr th {\n",
              "        vertical-align: top;\n",
              "    }\n",
              "\n",
              "    .dataframe thead th {\n",
              "        text-align: right;\n",
              "    }\n",
              "</style>\n",
              "<table border=\"1\" class=\"dataframe\">\n",
              "  <thead>\n",
              "    <tr style=\"text-align: right;\">\n",
              "      <th></th>\n",
              "      <th>instant</th>\n",
              "      <th>season</th>\n",
              "      <th>yr</th>\n",
              "      <th>mnth</th>\n",
              "      <th>holiday</th>\n",
              "      <th>weekday</th>\n",
              "      <th>workingday</th>\n",
              "      <th>weathersit</th>\n",
              "      <th>temp</th>\n",
              "      <th>atemp</th>\n",
              "      <th>hum</th>\n",
              "      <th>windspeed</th>\n",
              "      <th>cnt</th>\n",
              "    </tr>\n",
              "  </thead>\n",
              "  <tbody>\n",
              "    <tr>\n",
              "      <th>0</th>\n",
              "      <td>1</td>\n",
              "      <td>1.0</td>\n",
              "      <td>0.0</td>\n",
              "      <td>1.0</td>\n",
              "      <td>0.0</td>\n",
              "      <td>6.0</td>\n",
              "      <td>0.0</td>\n",
              "      <td>2</td>\n",
              "      <td>0.344167</td>\n",
              "      <td>0.363625</td>\n",
              "      <td>0.805833</td>\n",
              "      <td>0.160446</td>\n",
              "      <td>985</td>\n",
              "    </tr>\n",
              "    <tr>\n",
              "      <th>1</th>\n",
              "      <td>2</td>\n",
              "      <td>1.0</td>\n",
              "      <td>0.0</td>\n",
              "      <td>1.0</td>\n",
              "      <td>0.0</td>\n",
              "      <td>0.0</td>\n",
              "      <td>0.0</td>\n",
              "      <td>2</td>\n",
              "      <td>0.363478</td>\n",
              "      <td>0.353739</td>\n",
              "      <td>0.696087</td>\n",
              "      <td>0.248539</td>\n",
              "      <td>801</td>\n",
              "    </tr>\n",
              "    <tr>\n",
              "      <th>2</th>\n",
              "      <td>3</td>\n",
              "      <td>1.0</td>\n",
              "      <td>0.0</td>\n",
              "      <td>1.0</td>\n",
              "      <td>0.0</td>\n",
              "      <td>1.0</td>\n",
              "      <td>1.0</td>\n",
              "      <td>1</td>\n",
              "      <td>0.196364</td>\n",
              "      <td>0.189405</td>\n",
              "      <td>0.437273</td>\n",
              "      <td>0.248309</td>\n",
              "      <td>1349</td>\n",
              "    </tr>\n",
              "    <tr>\n",
              "      <th>3</th>\n",
              "      <td>4</td>\n",
              "      <td>1.0</td>\n",
              "      <td>0.0</td>\n",
              "      <td>1.0</td>\n",
              "      <td>0.0</td>\n",
              "      <td>2.0</td>\n",
              "      <td>1.0</td>\n",
              "      <td>1</td>\n",
              "      <td>0.200000</td>\n",
              "      <td>0.212122</td>\n",
              "      <td>0.590435</td>\n",
              "      <td>0.160296</td>\n",
              "      <td>1562</td>\n",
              "    </tr>\n",
              "    <tr>\n",
              "      <th>4</th>\n",
              "      <td>5</td>\n",
              "      <td>1.0</td>\n",
              "      <td>0.0</td>\n",
              "      <td>1.0</td>\n",
              "      <td>0.0</td>\n",
              "      <td>3.0</td>\n",
              "      <td>1.0</td>\n",
              "      <td>1</td>\n",
              "      <td>0.226957</td>\n",
              "      <td>0.229270</td>\n",
              "      <td>0.436957</td>\n",
              "      <td>0.186900</td>\n",
              "      <td>1600</td>\n",
              "    </tr>\n",
              "  </tbody>\n",
              "</table>\n",
              "</div>"
            ],
            "text/plain": [
              "   instant  season   yr  mnth  holiday  weekday  workingday  weathersit  \\\n",
              "0        1     1.0  0.0   1.0      0.0      6.0         0.0           2   \n",
              "1        2     1.0  0.0   1.0      0.0      0.0         0.0           2   \n",
              "2        3     1.0  0.0   1.0      0.0      1.0         1.0           1   \n",
              "3        4     1.0  0.0   1.0      0.0      2.0         1.0           1   \n",
              "4        5     1.0  0.0   1.0      0.0      3.0         1.0           1   \n",
              "\n",
              "       temp     atemp       hum  windspeed   cnt  \n",
              "0  0.344167  0.363625  0.805833   0.160446   985  \n",
              "1  0.363478  0.353739  0.696087   0.248539   801  \n",
              "2  0.196364  0.189405  0.437273   0.248309  1349  \n",
              "3  0.200000  0.212122  0.590435   0.160296  1562  \n",
              "4  0.226957  0.229270  0.436957   0.186900  1600  "
            ]
          },
          "execution_count": 5,
          "metadata": {},
          "output_type": "execute_result"
        }
      ],
      "source": [
        "# bike_rentals_cleaned.csv 파일을 로드합니다.\n",
        "df_bikes = pd.read_csv('bike_rentals_cleaned.csv')\n",
        "\n",
        "# 처음 다섯 개 행을 출력합니다.\n",
        "df_bikes.head()"
      ]
    },
    {
      "cell_type": "code",
      "execution_count": null,
      "metadata": {
        "id": "xBC6nKtB9zi1"
      },
      "outputs": [],
      "source": [
        "# 데이터를 X와 y로 나눕니다.\n",
        "X_bikes = df_bikes.iloc[:,:-1]\n",
        "y_bikes = df_bikes.iloc[:,-1]"
      ]
    },
    {
      "cell_type": "code",
      "execution_count": null,
      "metadata": {
        "id": "ZOcPUa2e9zi1",
        "outputId": "5fd50c5c-c45d-4f71-9863-a70b8acdbbe0"
      },
      "outputs": [
        {
          "name": "stdout",
          "output_type": "stream",
          "text": [
            "RMSE: [ 801.486  579.987  551.347  846.698  895.05  1097.522  893.738  809.284\n",
            "  833.488 2145.046]\n",
            "RMSE 평균: 945.365\n"
          ]
        }
      ],
      "source": [
        "# RandomForestRegressor를 임포트합니다.\n",
        "from sklearn.ensemble import RandomForestRegressor\n",
        "\n",
        "# RandomForestRegressor 객체를 만듭니다.\n",
        "rf = RandomForestRegressor(n_estimators=10, random_state=2, n_jobs=-1)\n",
        "\n",
        "# 평균 제곱 오차를 사용해 교차 검증을 수행합니다.\n",
        "scores = cross_val_score(rf, X_bikes, y_bikes, scoring='neg_mean_squared_error', cv=10)\n",
        "\n",
        "# 오차의 제곱근을 계산합니다.\n",
        "rmse = np.sqrt(-scores)\n",
        "\n",
        "# rmse를 출력합니다.\n",
        "print('RMSE:', np.round(rmse, 3))\n",
        "\n",
        "# 평균 rmse를 출력합니다.\n",
        "print('RMSE 평균: %0.3f' % (rmse.mean()))"
      ]
    },
    {
      "cell_type": "markdown",
      "metadata": {
        "id": "CZmGYrij9zi2"
      },
      "source": [
        "## 랜덤 포레스트 매개변수"
      ]
    },
    {
      "cell_type": "markdown",
      "metadata": {
        "id": "g9prZyzh9zi2"
      },
      "source": [
        "### oob_score"
      ]
    },
    {
      "cell_type": "code",
      "execution_count": null,
      "metadata": {
        "id": "3phXCcnT9zi3",
        "outputId": "c9a897f2-bc1d-47a1-99e8-e6e2e533bc90"
      },
      "outputs": [
        {
          "data": {
            "text/html": [
              "<style>#sk-container-id-1 {color: black;background-color: white;}#sk-container-id-1 pre{padding: 0;}#sk-container-id-1 div.sk-toggleable {background-color: white;}#sk-container-id-1 label.sk-toggleable__label {cursor: pointer;display: block;width: 100%;margin-bottom: 0;padding: 0.3em;box-sizing: border-box;text-align: center;}#sk-container-id-1 label.sk-toggleable__label-arrow:before {content: \"▸\";float: left;margin-right: 0.25em;color: #696969;}#sk-container-id-1 label.sk-toggleable__label-arrow:hover:before {color: black;}#sk-container-id-1 div.sk-estimator:hover label.sk-toggleable__label-arrow:before {color: black;}#sk-container-id-1 div.sk-toggleable__content {max-height: 0;max-width: 0;overflow: hidden;text-align: left;background-color: #f0f8ff;}#sk-container-id-1 div.sk-toggleable__content pre {margin: 0.2em;color: black;border-radius: 0.25em;background-color: #f0f8ff;}#sk-container-id-1 input.sk-toggleable__control:checked~div.sk-toggleable__content {max-height: 200px;max-width: 100%;overflow: auto;}#sk-container-id-1 input.sk-toggleable__control:checked~label.sk-toggleable__label-arrow:before {content: \"▾\";}#sk-container-id-1 div.sk-estimator input.sk-toggleable__control:checked~label.sk-toggleable__label {background-color: #d4ebff;}#sk-container-id-1 div.sk-label input.sk-toggleable__control:checked~label.sk-toggleable__label {background-color: #d4ebff;}#sk-container-id-1 input.sk-hidden--visually {border: 0;clip: rect(1px 1px 1px 1px);clip: rect(1px, 1px, 1px, 1px);height: 1px;margin: -1px;overflow: hidden;padding: 0;position: absolute;width: 1px;}#sk-container-id-1 div.sk-estimator {font-family: monospace;background-color: #f0f8ff;border: 1px dotted black;border-radius: 0.25em;box-sizing: border-box;margin-bottom: 0.5em;}#sk-container-id-1 div.sk-estimator:hover {background-color: #d4ebff;}#sk-container-id-1 div.sk-parallel-item::after {content: \"\";width: 100%;border-bottom: 1px solid gray;flex-grow: 1;}#sk-container-id-1 div.sk-label:hover label.sk-toggleable__label {background-color: #d4ebff;}#sk-container-id-1 div.sk-serial::before {content: \"\";position: absolute;border-left: 1px solid gray;box-sizing: border-box;top: 0;bottom: 0;left: 50%;z-index: 0;}#sk-container-id-1 div.sk-serial {display: flex;flex-direction: column;align-items: center;background-color: white;padding-right: 0.2em;padding-left: 0.2em;position: relative;}#sk-container-id-1 div.sk-item {position: relative;z-index: 1;}#sk-container-id-1 div.sk-parallel {display: flex;align-items: stretch;justify-content: center;background-color: white;position: relative;}#sk-container-id-1 div.sk-item::before, #sk-container-id-1 div.sk-parallel-item::before {content: \"\";position: absolute;border-left: 1px solid gray;box-sizing: border-box;top: 0;bottom: 0;left: 50%;z-index: -1;}#sk-container-id-1 div.sk-parallel-item {display: flex;flex-direction: column;z-index: 1;position: relative;background-color: white;}#sk-container-id-1 div.sk-parallel-item:first-child::after {align-self: flex-end;width: 50%;}#sk-container-id-1 div.sk-parallel-item:last-child::after {align-self: flex-start;width: 50%;}#sk-container-id-1 div.sk-parallel-item:only-child::after {width: 0;}#sk-container-id-1 div.sk-dashed-wrapped {border: 1px dashed gray;margin: 0 0.4em 0.5em 0.4em;box-sizing: border-box;padding-bottom: 0.4em;background-color: white;}#sk-container-id-1 div.sk-label label {font-family: monospace;font-weight: bold;display: inline-block;line-height: 1.2em;}#sk-container-id-1 div.sk-label-container {text-align: center;}#sk-container-id-1 div.sk-container {/* jupyter's `normalize.less` sets `[hidden] { display: none; }` but bootstrap.min.css set `[hidden] { display: none !important; }` so we also need the `!important` here to be able to override the default hidden behavior on the sphinx rendered scikit-learn.org. See: https://github.com/scikit-learn/scikit-learn/issues/21755 */display: inline-block !important;position: relative;}#sk-container-id-1 div.sk-text-repr-fallback {display: none;}</style><div id=\"sk-container-id-1\" class=\"sk-top-container\"><div class=\"sk-text-repr-fallback\"><pre>RandomForestClassifier(n_estimators=10, n_jobs=-1, oob_score=True,\n",
              "                       random_state=2)</pre><b>In a Jupyter environment, please rerun this cell to show the HTML representation or trust the notebook. <br />On GitHub, the HTML representation is unable to render, please try loading this page with nbviewer.org.</b></div><div class=\"sk-container\" hidden><div class=\"sk-item\"><div class=\"sk-estimator sk-toggleable\"><input class=\"sk-toggleable__control sk-hidden--visually\" id=\"sk-estimator-id-1\" type=\"checkbox\" checked><label for=\"sk-estimator-id-1\" class=\"sk-toggleable__label sk-toggleable__label-arrow\">RandomForestClassifier</label><div class=\"sk-toggleable__content\"><pre>RandomForestClassifier(n_estimators=10, n_jobs=-1, oob_score=True,\n",
              "                       random_state=2)</pre></div></div></div></div></div>"
            ],
            "text/plain": [
              "RandomForestClassifier(n_estimators=10, n_jobs=-1, oob_score=True,\n",
              "                       random_state=2)"
            ]
          },
          "execution_count": 8,
          "metadata": {},
          "output_type": "execute_result"
        }
      ],
      "source": [
        "# oob_score=True로 랜덤 포레스트 모델을 만듭니다.\n",
        "rf = RandomForestClassifier(oob_score=True, n_estimators=10, random_state=2, n_jobs=-1)\n",
        "\n",
        "# 인구 조사 데이터셋으로 모델을 훈련합니다.\n",
        "rf.fit(X_census, y_census)"
      ]
    },
    {
      "cell_type": "code",
      "execution_count": null,
      "metadata": {
        "id": "V5Qlo-9e9zi3",
        "outputId": "8608f357-cb0c-4669-94bf-77d5ef697455"
      },
      "outputs": [
        {
          "data": {
            "text/plain": [
              "0.8343109855348423"
            ]
          },
          "execution_count": 9,
          "metadata": {},
          "output_type": "execute_result"
        }
      ],
      "source": [
        "# oob_score_를 출력합니다.\n",
        "rf.oob_score_"
      ]
    },
    {
      "cell_type": "markdown",
      "metadata": {
        "id": "0Bo_L1dT9zi3"
      },
      "source": [
        "### n_estimators"
      ]
    },
    {
      "cell_type": "code",
      "execution_count": null,
      "metadata": {
        "id": "od08vpRz9zi4",
        "outputId": "4211c9f9-0b6e-4168-f21e-7eed36580495"
      },
      "outputs": [
        {
          "data": {
            "text/plain": [
              "0.8518780135745216"
            ]
          },
          "execution_count": 10,
          "metadata": {},
          "output_type": "execute_result"
        }
      ],
      "source": [
        "# n_estimators=50과 oob_score=True로 RandomForestClassifier를 만듭니다.\n",
        "rf = RandomForestClassifier(n_estimators=50, oob_score=True, random_state=2, n_jobs=-1)\n",
        "\n",
        "# 인구 조사 데이터셋으로 모델을 훈련합니다.\n",
        "rf.fit(X_census, y_census)\n",
        "\n",
        "# oob_score_를 출력합니다.\n",
        "rf.oob_score_"
      ]
    },
    {
      "cell_type": "code",
      "execution_count": null,
      "metadata": {
        "id": "nYbwHsHH9zi4",
        "outputId": "ab6ed285-c37d-4f34-8ee6-c2c3d6fbc939"
      },
      "outputs": [
        {
          "data": {
            "text/plain": [
              "0.8551334418476091"
            ]
          },
          "execution_count": 11,
          "metadata": {},
          "output_type": "execute_result"
        }
      ],
      "source": [
        "# n_estimators=100과 oob_score=True로 RandomForestClassifier를 만듭니다.\n",
        "rf = RandomForestClassifier(n_estimators=100, oob_score=True, random_state=2, n_jobs=-1)\n",
        "\n",
        "# 인구 조사 데이터셋으로 모델을 훈련합니다.\n",
        "rf.fit(X_census, y_census)\n",
        "\n",
        "# oob_score_를 출력합니다.\n",
        "rf.oob_score_"
      ]
    },
    {
      "cell_type": "markdown",
      "metadata": {
        "id": "WhD_NXHP9zi4"
      },
      "source": [
        "### warm_start"
      ]
    },
    {
      "cell_type": "code",
      "execution_count": null,
      "metadata": {
        "id": "SxI7EjkK9zi5",
        "outputId": "4171f996-9c6a-4064-c966-5da99907c28f"
      },
      "outputs": [
        {
          "data": {
            "image/png": "[encoded data removed]",
            "text/plain": [
              "<Figure size 1080x504 with 1 Axes>"
            ]
          },
          "metadata": {
            "needs_background": "light"
          },
          "output_type": "display_data"
        }
      ],
      "source": [
        "# matplotlib 임포트\n",
        "import matplotlib.pyplot as plt\n",
        "\n",
        "# seaborn 임포트\n",
        "import seaborn as sns\n",
        "\n",
        "# seaborn을 darkgrid로 설정합니다.\n",
        "sns.set()\n",
        "\n",
        "# 빈 oob_scores 리스트를 만듭니다.\n",
        "oob_scores = []\n",
        "\n",
        "# n_estimators=50, warm_start=True, oob_score=True로 RandomForestClassifier 객체를 만듭니다.\n",
        "rf = RandomForestClassifier(n_estimators=50, warm_start=True, \n",
        "                            oob_score=True, n_jobs=-1, random_state=2)\n",
        "\n",
        "# 인구 조사 데이터셋으로 모델을 훈련합니다.\n",
        "rf.fit(X_census, y_census)\n",
        "\n",
        "# rf.oob_score_를 oob_scores 리스트에 추가합니다.\n",
        "oob_scores.append(rf.oob_score_)\n",
        "\n",
        "# est를 50으로 초기화합니다.\n",
        "est = 50\n",
        "\n",
        "# est로 estimators 리스트를 초기화합니다.\n",
        "estimators=[est]\n",
        "\n",
        "# 0~9까지 반복합니다.\n",
        "for i in range(9):\n",
        "    \n",
        "    # est에 50을 더합니다.\n",
        "    est += 50\n",
        "    \n",
        "    # est를 estimators 리스트에 추가합니다.\n",
        "    estimators.append(est)\n",
        "\n",
        "    # n_estimators를 est로 설정합니다.\n",
        "    rf.set_params(n_estimators=est)\n",
        "    \n",
        "    # 인구 조사 데이터셋으로 훈련합니다.\n",
        "    rf.fit(X_census, y_census)\n",
        "    \n",
        "    # rf.oob_score를 oob_scores 리스트에 추가합니다.\n",
        "    oob_scores.append(rf.oob_score_)\n",
        "\n",
        "# 그래프 크기를 설정합니다.\n",
        "plt.figure(figsize=(15,7))\n",
        "\n",
        "# estimators와 oob_scores를 그래프로 그립니다.\n",
        "plt.plot(estimators, oob_scores)\n",
        "\n",
        "# x 축 레이블을 설정합니다.\n",
        "plt.xlabel('Number of Trees')\n",
        "\n",
        "# y 축 레이블을 설정합니다.\n",
        "plt.ylabel('oob_score_')\n",
        "\n",
        "# 제목을 출력합니다.\n",
        "plt.title('Random Forest Warm Start', fontsize=15)\n",
        "\n",
        "# 그래프를 출력합니다.\n",
        "plt.show()"
      ]
    },
    {
      "cell_type": "markdown",
      "metadata": {
        "id": "uldQ7s-u9zi5"
      },
      "source": [
        "### ExtraTreesClassifier"
      ]
    },
    {
      "cell_type": "code",
      "execution_count": null,
      "metadata": {
        "id": "AvJ7D5oK9zi5",
        "outputId": "8c33ac70-1c7a-4890-b460-4c5cabe92b8b"
      },
      "outputs": [
        {
          "name": "stdout",
          "output_type": "stream",
          "text": [
            "교차 검증 평균 점수: 0.8415642915642916\n"
          ]
        }
      ],
      "source": [
        "from sklearn.ensemble import ExtraTreesClassifier\n",
        "from sklearn.model_selection import train_test_split, cross_validate\n",
        "\n",
        "X_train, X_test, y_train, y_test = train_test_split(X_census, y_census, random_state=2)\n",
        "et = ExtraTreesClassifier(n_estimators=100, random_state=2, n_jobs=-1)\n",
        "cv_results = cross_validate(et, X_train, y_train)\n",
        "\n",
        "print('교차 검증 평균 점수:', np.mean(cv_results['test_score']))"
      ]
    },
    {
      "cell_type": "markdown",
      "metadata": {
        "id": "9Hgb7kzJ9zi6"
      },
      "source": [
        "## 랜덤 포레스트 성능 높이기 - 사례 연구\n",
        "\n",
        "### 데이터셋 준비"
      ]
    },
    {
      "cell_type": "code",
      "execution_count": null,
      "metadata": {
        "id": "tAJtE6IC9zi6",
        "outputId": "6555ac18-2dcd-44f3-dc19-c143d86fc9ec"
      },
      "outputs": [
        {
          "data": {
            "text/html": [
              "<div>\n",
              "<style scoped>\n",
              "    .dataframe tbody tr th:only-of-type {\n",
              "        vertical-align: middle;\n",
              "    }\n",
              "\n",
              "    .dataframe tbody tr th {\n",
              "        vertical-align: top;\n",
              "    }\n",
              "\n",
              "    .dataframe thead th {\n",
              "        text-align: right;\n",
              "    }\n",
              "</style>\n",
              "<table border=\"1\" class=\"dataframe\">\n",
              "  <thead>\n",
              "    <tr style=\"text-align: right;\">\n",
              "      <th></th>\n",
              "      <th>instant</th>\n",
              "      <th>season</th>\n",
              "      <th>yr</th>\n",
              "      <th>mnth</th>\n",
              "      <th>holiday</th>\n",
              "      <th>weekday</th>\n",
              "      <th>workingday</th>\n",
              "      <th>weathersit</th>\n",
              "      <th>temp</th>\n",
              "      <th>atemp</th>\n",
              "      <th>hum</th>\n",
              "      <th>windspeed</th>\n",
              "      <th>cnt</th>\n",
              "    </tr>\n",
              "  </thead>\n",
              "  <tbody>\n",
              "    <tr>\n",
              "      <th>0</th>\n",
              "      <td>1</td>\n",
              "      <td>1.0</td>\n",
              "      <td>0.0</td>\n",
              "      <td>1.0</td>\n",
              "      <td>0.0</td>\n",
              "      <td>6.0</td>\n",
              "      <td>0.0</td>\n",
              "      <td>2</td>\n",
              "      <td>0.344167</td>\n",
              "      <td>0.363625</td>\n",
              "      <td>0.805833</td>\n",
              "      <td>0.160446</td>\n",
              "      <td>985</td>\n",
              "    </tr>\n",
              "    <tr>\n",
              "      <th>1</th>\n",
              "      <td>2</td>\n",
              "      <td>1.0</td>\n",
              "      <td>0.0</td>\n",
              "      <td>1.0</td>\n",
              "      <td>0.0</td>\n",
              "      <td>0.0</td>\n",
              "      <td>0.0</td>\n",
              "      <td>2</td>\n",
              "      <td>0.363478</td>\n",
              "      <td>0.353739</td>\n",
              "      <td>0.696087</td>\n",
              "      <td>0.248539</td>\n",
              "      <td>801</td>\n",
              "    </tr>\n",
              "    <tr>\n",
              "      <th>2</th>\n",
              "      <td>3</td>\n",
              "      <td>1.0</td>\n",
              "      <td>0.0</td>\n",
              "      <td>1.0</td>\n",
              "      <td>0.0</td>\n",
              "      <td>1.0</td>\n",
              "      <td>1.0</td>\n",
              "      <td>1</td>\n",
              "      <td>0.196364</td>\n",
              "      <td>0.189405</td>\n",
              "      <td>0.437273</td>\n",
              "      <td>0.248309</td>\n",
              "      <td>1349</td>\n",
              "    </tr>\n",
              "    <tr>\n",
              "      <th>3</th>\n",
              "      <td>4</td>\n",
              "      <td>1.0</td>\n",
              "      <td>0.0</td>\n",
              "      <td>1.0</td>\n",
              "      <td>0.0</td>\n",
              "      <td>2.0</td>\n",
              "      <td>1.0</td>\n",
              "      <td>1</td>\n",
              "      <td>0.200000</td>\n",
              "      <td>0.212122</td>\n",
              "      <td>0.590435</td>\n",
              "      <td>0.160296</td>\n",
              "      <td>1562</td>\n",
              "    </tr>\n",
              "    <tr>\n",
              "      <th>4</th>\n",
              "      <td>5</td>\n",
              "      <td>1.0</td>\n",
              "      <td>0.0</td>\n",
              "      <td>1.0</td>\n",
              "      <td>0.0</td>\n",
              "      <td>3.0</td>\n",
              "      <td>1.0</td>\n",
              "      <td>1</td>\n",
              "      <td>0.226957</td>\n",
              "      <td>0.229270</td>\n",
              "      <td>0.436957</td>\n",
              "      <td>0.186900</td>\n",
              "      <td>1600</td>\n",
              "    </tr>\n",
              "  </tbody>\n",
              "</table>\n",
              "</div>"
            ],
            "text/plain": [
              "   instant  season   yr  mnth  holiday  weekday  workingday  weathersit  \\\n",
              "0        1     1.0  0.0   1.0      0.0      6.0         0.0           2   \n",
              "1        2     1.0  0.0   1.0      0.0      0.0         0.0           2   \n",
              "2        3     1.0  0.0   1.0      0.0      1.0         1.0           1   \n",
              "3        4     1.0  0.0   1.0      0.0      2.0         1.0           1   \n",
              "4        5     1.0  0.0   1.0      0.0      3.0         1.0           1   \n",
              "\n",
              "       temp     atemp       hum  windspeed   cnt  \n",
              "0  0.344167  0.363625  0.805833   0.160446   985  \n",
              "1  0.363478  0.353739  0.696087   0.248539   801  \n",
              "2  0.196364  0.189405  0.437273   0.248309  1349  \n",
              "3  0.200000  0.212122  0.590435   0.160296  1562  \n",
              "4  0.226957  0.229270  0.436957   0.186900  1600  "
            ]
          },
          "execution_count": 14,
          "metadata": {},
          "output_type": "execute_result"
        }
      ],
      "source": [
        "# bike_rentals_cleaned.csv 파일을 로드합니다.\n",
        "df_bikes = pd.read_csv('bike_rentals_cleaned.csv')\n",
        "\n",
        "# 처음 다섯 개 행을 출력합니다.\n",
        "df_bikes.head()"
      ]
    },
    {
      "cell_type": "code",
      "execution_count": null,
      "metadata": {
        "id": "NKPBHuob9zi6"
      },
      "outputs": [],
      "source": [
        "# train_test_split 임포트\n",
        "from sklearn.model_selection import train_test_split\n",
        "\n",
        "# 데이터를 훈련 세트와 테스트 세트로 나눕니다.\n",
        "X_train, X_test, y_train, y_test = train_test_split(X_bikes, y_bikes, random_state=2)"
      ]
    },
    {
      "cell_type": "markdown",
      "metadata": {
        "id": "X11hEqGT9zi7"
      },
      "source": [
        "### n_estimators"
      ]
    },
    {
      "cell_type": "code",
      "execution_count": null,
      "metadata": {
        "id": "0f-JKkZZ9zi8",
        "outputId": "25934a95-b0cb-4113-d05d-e68ace090e3d"
      },
      "outputs": [
        {
          "data": {
            "image/png": "[encoded data removed]",
            "text/plain": [
              "<Figure size 1080x504 with 1 Axes>"
            ]
          },
          "metadata": {
            "needs_background": "light"
          },
          "output_type": "display_data"
        }
      ],
      "source": [
        "from sklearn.metrics import mean_squared_error\n",
        "\n",
        "# MSE 점수와 트리 개수를 담을 리스트\n",
        "rmse_scores = []\n",
        "estimators = []\n",
        "\n",
        "# warm_start=True로 RandomForestRegressor 객체를 만듭니다.\n",
        "rf = RandomForestRegressor(warm_start=True, n_jobs=-1, random_state=2)\n",
        "\n",
        "# 시작 트리 개수\n",
        "est = 10\n",
        "\n",
        "# 0~19까지 반복합니다.\n",
        "for i in range(21):\n",
        "    \n",
        "    # n_estimators를 est로 설정합니다.\n",
        "    rf.set_params(n_estimators=est)\n",
        "    \n",
        "    # 인구 조사 데이터셋으로 훈련합니다.\n",
        "    rf.fit(X_train, y_train)\n",
        "    \n",
        "    # RMSE 값을 계산합니다.\n",
        "    rmse = mean_squared_error(y_test, rf.predict(X_test), squared=False)\n",
        "    \n",
        "    # rmse와 est를 리스트에 추가합니다.\n",
        "    rmse_scores.append(rmse)\n",
        "    estimators.append(est)\n",
        "    \n",
        "    # 트리를 25개씩 늘립니다.\n",
        "    est += 25\n",
        "\n",
        "# 그래프 크기를 설정합니다.\n",
        "plt.figure(figsize=(15,7))\n",
        "\n",
        "# estimators와 rmse_scores를 그래프로 그립니다.\n",
        "plt.plot(estimators, rmse_scores)\n",
        "\n",
        "# 축 레이블을 설정합니다.\n",
        "plt.xlabel('Number of Trees')\n",
        "plt.ylabel('RMSE')\n",
        "\n",
        "# 제목을 출력합니다.\n",
        "plt.title('Random Forest Bike Rentals', fontsize=15)\n",
        "\n",
        "# 그래프를 출력합니다.\n",
        "plt.show()"
      ]
    },
    {
      "cell_type": "markdown",
      "metadata": {
        "id": "ITwUnm-o9zjC"
      },
      "source": [
        "### cross_val_score"
      ]
    },
    {
      "cell_type": "code",
      "execution_count": null,
      "metadata": {
        "id": "9LsGPSyq9zjC",
        "outputId": "77d71a7f-7230-4cf4-ca33-88e50480fa32"
      },
      "outputs": [
        {
          "name": "stdout",
          "output_type": "stream",
          "text": [
            "RMSE: [ 836.482  541.898  533.086  812.782  894.877  881.117  794.103  828.968\n",
            "  772.517 2128.148]\n",
            "RMSE 평균: 902.398\n"
          ]
        }
      ],
      "source": [
        "# n_estimators=50, warm_start=True, oob_score=True로 랜덤 포레스트 모델을 만듭니다.\n",
        "rf = RandomForestRegressor(n_estimators=50, warm_start=True, \n",
        "                           n_jobs=-1, random_state=2)\n",
        "   \n",
        "# 평균 제곱 오차를 사용해 교차 검증을 수행합니다.\n",
        "scores = cross_val_score(rf, X_bikes, y_bikes, \n",
        "                         scoring='neg_mean_squared_error', cv=10)\n",
        "    \n",
        "# 오차의 제곱근을 계산합니다.\n",
        "rmse = np.sqrt(-scores)\n",
        "    \n",
        "# rmse를 출력합니다.\n",
        "print('RMSE:', np.round(rmse, 3))\n",
        "\n",
        "# 평균 rmse를 출력합니다.\n",
        "print('RMSE 평균: %0.3f' % (rmse.mean()))"
      ]
    },
    {
      "cell_type": "markdown",
      "metadata": {
        "id": "hmIPvouh9zjC"
      },
      "source": [
        "### 하이퍼파라미터 튜닝"
      ]
    },
    {
      "cell_type": "code",
      "execution_count": null,
      "metadata": {
        "id": "0LQQ-hoM9zjC"
      },
      "outputs": [],
      "source": [
        "# RandomizedSearchCV 임포트\n",
        "from sklearn.model_selection import RandomizedSearchCV\n",
        "\n",
        "def randomized_search_reg(params, runs=16, \n",
        "                          reg=RandomForestRegressor(random_state=2, n_jobs=-1)):\n",
        "\n",
        "    # RandomizedSearchCV 객체를 만듭니다.\n",
        "    rand_reg = RandomizedSearchCV(reg, params, n_iter=runs, scoring='neg_mean_squared_error', \n",
        "                                  cv=10, n_jobs=-1, random_state=2)\n",
        "    \n",
        "    # X_train와 y_train로 grid_reg를 훈련합니다.\n",
        "    rand_reg.fit(X_train, y_train)\n",
        "\n",
        "    # 최상의 모델을 추출합니다.\n",
        "    best_model = rand_reg.best_estimator_\n",
        "\n",
        "    # 최상의 매개변수를 추출합니다.\n",
        "    best_params = rand_reg.best_params_\n",
        "\n",
        "    # 최상의 매개변수를 출력합니다.\n",
        "    print(\"최상의 매개변수:\", best_params)\n",
        "    \n",
        "    # 최상의 점수를 구합니다.\n",
        "    best_score = np.sqrt(-rand_reg.best_score_)\n",
        "\n",
        "    # 최상의 점수를 출력합니다.\n",
        "    print(\"훈련 점수: {:.3f}\".format(best_score))\n",
        "\n",
        "    # 테스트 세트의 레이블을 예측합니다.\n",
        "    y_pred = best_model.predict(X_test)\n",
        "    \n",
        "    # mean_squared_error를 임포트합니다.\n",
        "    from sklearn.metrics import mean_squared_error as MSE\n",
        "\n",
        "    # rmse를 계산합니다.\n",
        "    rmse_test = MSE(y_test, y_pred)**0.5\n",
        "\n",
        "    # rmse를 출력합니다.\n",
        "    print('테스트 세트 점수: {:.3f}'.format(rmse_test))"
      ]
    },
    {
      "cell_type": "code",
      "execution_count": null,
      "metadata": {
        "id": "xSJkoqK89zjD",
        "outputId": "d1463efc-e80a-4283-9e3e-01aff5d883c8"
      },
      "outputs": [
        {
          "name": "stdout",
          "output_type": "stream",
          "text": [
            "최상의 매개변수: {'min_weight_fraction_leaf': 0.0, 'min_samples_split': 0.03, 'min_samples_leaf': 6, 'min_impurity_decrease': 0.05, 'max_leaf_nodes': 25, 'max_features': 0.7, 'max_depth': None}\n",
            "훈련 점수: 759.076\n",
            "테스트 세트 점수: 701.802\n"
          ]
        }
      ],
      "source": [
        "randomized_search_reg(\n",
        "    params={'min_weight_fraction_leaf':[0.0, 0.0025, 0.005, 0.0075, 0.01, 0.05],\n",
        "            'min_samples_split':[2, 0.01, 0.02, 0.03, 0.04, 0.06, 0.08, 0.1],\n",
        "            'min_samples_leaf':[1,2,4,6,8,10,20,30],\n",
        "            'min_impurity_decrease':[0.0, 0.01, 0.05, 0.10, 0.15, 0.2],\n",
        "            'max_leaf_nodes':[10, 15, 20, 25, 30, 35, 40, 45, 50, None],\n",
        "            'max_features':['sqrt', 0.8, 0.7, 0.6, 0.5, 0.4],\n",
        "            'max_depth':[None,2,4,6,8,10,20]})"
      ]
    },
    {
      "cell_type": "code",
      "execution_count": null,
      "metadata": {
        "id": "ioNvN4nK9zjD",
        "outputId": "f763fec9-8ef6-46a1-c043-1dd316d569d0"
      },
      "outputs": [
        {
          "name": "stdout",
          "output_type": "stream",
          "text": [
            "최상의 매개변수: {'min_samples_leaf': 1, 'min_impurity_decrease': 0.1, 'max_features': 0.6, 'max_depth': 10}\n",
            "훈련 점수: 679.052\n",
            "테스트 세트 점수: 626.541\n"
          ]
        }
      ],
      "source": [
        "randomized_search_reg(\n",
        "    params={'min_samples_leaf':[1,2,4,6,8,10,20,30],\n",
        "            'min_impurity_decrease':[0.0, 0.01, 0.05, 0.10, 0.15, 0.2],\n",
        "            'max_features':['sqrt', 0.8, 0.7, 0.6, 0.5, 0.4],\n",
        "            'max_depth':[None,2,4,6,8,10,20]})"
      ]
    },
    {
      "cell_type": "code",
      "execution_count": null,
      "metadata": {
        "scrolled": true,
        "id": "6JmjI-7u9zjE",
        "outputId": "2373d97a-0461-4986-f43a-b4ba2fe7f7ea"
      },
      "outputs": [
        {
          "name": "stdout",
          "output_type": "stream",
          "text": [
            "최상의 매개변수: {'min_samples_leaf': 1, 'min_impurity_decrease': 0.1, 'max_features': 0.6, 'max_depth': 12}\n",
            "훈련 점수: 675.128\n",
            "테스트 세트 점수: 619.014\n"
          ]
        }
      ],
      "source": [
        "randomized_search_reg(\n",
        "    params={'min_samples_leaf':[1,2,4,6,8,10,20,30],\n",
        "            'min_impurity_decrease':[0.0, 0.01, 0.05, 0.10, 0.15, 0.2],\n",
        "            'max_features':['sqrt', 0.8, 0.7, 0.6, 0.5, 0.4],\n",
        "            'max_depth':[None,4,6,8,10,12,15,20]}, \n",
        "    runs=20)"
      ]
    },
    {
      "cell_type": "code",
      "execution_count": null,
      "metadata": {
        "id": "NXW6-lUh9zjE",
        "outputId": "3797be1b-8749-4f76-c076-ba112f8ed69f"
      },
      "outputs": [
        {
          "name": "stdout",
          "output_type": "stream",
          "text": [
            "최상의 매개변수: {'min_samples_leaf': 1, 'min_impurity_decrease': 0.05, 'max_features': 0.7, 'max_depth': 18}\n",
            "훈련 점수: 679.595\n",
            "테스트 세트 점수: 630.954\n"
          ]
        }
      ],
      "source": [
        "randomized_search_reg(\n",
        "    params={'min_samples_leaf':[1,2,3,4,5,6],\n",
        "            'min_impurity_decrease':[0.0, 0.01, 0.05, 0.08, 0.10, 0.12, 0.15],\n",
        "            'max_features':['sqrt', 0.8, 0.7, 0.6, 0.5, 0.4],\n",
        "            'max_depth':[None,8,10,12,14,16,18,20]})"
      ]
    },
    {
      "cell_type": "code",
      "execution_count": null,
      "metadata": {
        "id": "CMjwwT219zjE",
        "outputId": "2500873e-79ac-4d72-9202-2d4881aa82a2"
      },
      "outputs": [
        {
          "name": "stdout",
          "output_type": "stream",
          "text": [
            "최상의 매개변수: {'n_estimators': 100, 'min_samples_leaf': 1, 'min_impurity_decrease': 0.1, 'max_features': 0.6, 'max_depth': 12}\n",
            "훈련 점수: 675.128\n",
            "테스트 세트 점수: 619.014\n"
          ]
        }
      ],
      "source": [
        "randomized_search_reg(\n",
        "    params={'min_samples_leaf':[1,2,4,6,8,10,20,30],\n",
        "            'min_impurity_decrease':[0.0, 0.01, 0.05, 0.10, 0.15, 0.2],\n",
        "            'max_features':['sqrt', 0.8, 0.7, 0.6, 0.5, 0.4],\n",
        "            'max_depth':[None,4,6,8,10,12,15,20],\n",
        "            'n_estimators':[100]}, \n",
        "    runs=20)"
      ]
    },
    {
      "cell_type": "code",
      "execution_count": null,
      "metadata": {
        "id": "hykS42A09zjF",
        "outputId": "ca532663-c3c6-48ed-84d8-159f2d964355"
      },
      "outputs": [
        {
          "name": "stdout",
          "output_type": "stream",
          "text": [
            "RMSE: [ 818.354  514.173  547.392  814.059  769.54   730.025  831.376  794.634\n",
            "  756.83  1595.237]\n",
            "RMSE 평균: 817.162\n"
          ]
        }
      ],
      "source": [
        "# n_estimators=100, oob_score=True으로 랜덤 포레스트 모델을 만듭니다.\n",
        "rf = RandomForestRegressor(n_estimators=100, min_impurity_decrease=0.1, \n",
        "                           max_features=0.6, max_depth=12, n_jobs=-1, \n",
        "                           random_state=2)\n",
        "   \n",
        "# 평균 제곱 오차를 사용해 교차 검증을 수행합니다.\n",
        "scores = cross_val_score(rf, X_bikes, y_bikes, \n",
        "                         scoring='neg_mean_squared_error', cv=10)\n",
        "    \n",
        "# 오차의 제곱근을 계산합니다.\n",
        "rmse = np.sqrt(-scores)\n",
        "    \n",
        "# rmse를 출력합니다.\n",
        "print('RMSE:', np.round(rmse, 3))\n",
        "\n",
        "# 평균 rmse를 출력합니다.\n",
        "print('RMSE 평균: %0.3f' % (rmse.mean()))"
      ]
    },
    {
      "cell_type": "code",
      "execution_count": null,
      "metadata": {
        "id": "hXHeAZUd9zjF",
        "outputId": "3e025afd-ef23-4da3-d357-8b109bdf3a14"
      },
      "outputs": [
        {
          "data": {
            "text/html": [
              "<div>\n",
              "<style scoped>\n",
              "    .dataframe tbody tr th:only-of-type {\n",
              "        vertical-align: middle;\n",
              "    }\n",
              "\n",
              "    .dataframe tbody tr th {\n",
              "        vertical-align: top;\n",
              "    }\n",
              "\n",
              "    .dataframe thead th {\n",
              "        text-align: right;\n",
              "    }\n",
              "</style>\n",
              "<table border=\"1\" class=\"dataframe\">\n",
              "  <thead>\n",
              "    <tr style=\"text-align: right;\">\n",
              "      <th></th>\n",
              "      <th>instant</th>\n",
              "      <th>season</th>\n",
              "      <th>yr</th>\n",
              "      <th>mnth</th>\n",
              "      <th>holiday</th>\n",
              "      <th>weekday</th>\n",
              "      <th>workingday</th>\n",
              "      <th>weathersit</th>\n",
              "      <th>temp</th>\n",
              "      <th>atemp</th>\n",
              "      <th>hum</th>\n",
              "      <th>windspeed</th>\n",
              "      <th>cnt</th>\n",
              "    </tr>\n",
              "  </thead>\n",
              "  <tbody>\n",
              "    <tr>\n",
              "      <th>0</th>\n",
              "      <td>1</td>\n",
              "      <td>1.0</td>\n",
              "      <td>0.0</td>\n",
              "      <td>1.0</td>\n",
              "      <td>0.0</td>\n",
              "      <td>6.0</td>\n",
              "      <td>0.0</td>\n",
              "      <td>2</td>\n",
              "      <td>0.344167</td>\n",
              "      <td>0.363625</td>\n",
              "      <td>0.805833</td>\n",
              "      <td>0.160446</td>\n",
              "      <td>985</td>\n",
              "    </tr>\n",
              "    <tr>\n",
              "      <th>1</th>\n",
              "      <td>2</td>\n",
              "      <td>1.0</td>\n",
              "      <td>0.0</td>\n",
              "      <td>1.0</td>\n",
              "      <td>0.0</td>\n",
              "      <td>0.0</td>\n",
              "      <td>0.0</td>\n",
              "      <td>2</td>\n",
              "      <td>0.363478</td>\n",
              "      <td>0.353739</td>\n",
              "      <td>0.696087</td>\n",
              "      <td>0.248539</td>\n",
              "      <td>801</td>\n",
              "    </tr>\n",
              "    <tr>\n",
              "      <th>2</th>\n",
              "      <td>3</td>\n",
              "      <td>1.0</td>\n",
              "      <td>0.0</td>\n",
              "      <td>1.0</td>\n",
              "      <td>0.0</td>\n",
              "      <td>1.0</td>\n",
              "      <td>1.0</td>\n",
              "      <td>1</td>\n",
              "      <td>0.196364</td>\n",
              "      <td>0.189405</td>\n",
              "      <td>0.437273</td>\n",
              "      <td>0.248309</td>\n",
              "      <td>1349</td>\n",
              "    </tr>\n",
              "    <tr>\n",
              "      <th>3</th>\n",
              "      <td>4</td>\n",
              "      <td>1.0</td>\n",
              "      <td>0.0</td>\n",
              "      <td>1.0</td>\n",
              "      <td>0.0</td>\n",
              "      <td>2.0</td>\n",
              "      <td>1.0</td>\n",
              "      <td>1</td>\n",
              "      <td>0.200000</td>\n",
              "      <td>0.212122</td>\n",
              "      <td>0.590435</td>\n",
              "      <td>0.160296</td>\n",
              "      <td>1562</td>\n",
              "    </tr>\n",
              "    <tr>\n",
              "      <th>4</th>\n",
              "      <td>5</td>\n",
              "      <td>1.0</td>\n",
              "      <td>0.0</td>\n",
              "      <td>1.0</td>\n",
              "      <td>0.0</td>\n",
              "      <td>3.0</td>\n",
              "      <td>1.0</td>\n",
              "      <td>1</td>\n",
              "      <td>0.226957</td>\n",
              "      <td>0.229270</td>\n",
              "      <td>0.436957</td>\n",
              "      <td>0.186900</td>\n",
              "      <td>1600</td>\n",
              "    </tr>\n",
              "  </tbody>\n",
              "</table>\n",
              "</div>"
            ],
            "text/plain": [
              "   instant  season   yr  mnth  holiday  weekday  workingday  weathersit  \\\n",
              "0        1     1.0  0.0   1.0      0.0      6.0         0.0           2   \n",
              "1        2     1.0  0.0   1.0      0.0      0.0         0.0           2   \n",
              "2        3     1.0  0.0   1.0      0.0      1.0         1.0           1   \n",
              "3        4     1.0  0.0   1.0      0.0      2.0         1.0           1   \n",
              "4        5     1.0  0.0   1.0      0.0      3.0         1.0           1   \n",
              "\n",
              "       temp     atemp       hum  windspeed   cnt  \n",
              "0  0.344167  0.363625  0.805833   0.160446   985  \n",
              "1  0.363478  0.353739  0.696087   0.248539   801  \n",
              "2  0.196364  0.189405  0.437273   0.248309  1349  \n",
              "3  0.200000  0.212122  0.590435   0.160296  1562  \n",
              "4  0.226957  0.229270  0.436957   0.186900  1600  "
            ]
          },
          "execution_count": 25,
          "metadata": {},
          "output_type": "execute_result"
        }
      ],
      "source": [
        "df_bikes.head()"
      ]
    },
    {
      "cell_type": "code",
      "execution_count": null,
      "metadata": {
        "id": "msV9jsSL9zjF",
        "outputId": "fa3f7d15-aa8c-42dd-ddab-5bbea68d24bb"
      },
      "outputs": [
        {
          "data": {
            "text/html": [
              "<div>\n",
              "<style scoped>\n",
              "    .dataframe tbody tr th:only-of-type {\n",
              "        vertical-align: middle;\n",
              "    }\n",
              "\n",
              "    .dataframe tbody tr th {\n",
              "        vertical-align: top;\n",
              "    }\n",
              "\n",
              "    .dataframe thead th {\n",
              "        text-align: right;\n",
              "    }\n",
              "</style>\n",
              "<table border=\"1\" class=\"dataframe\">\n",
              "  <thead>\n",
              "    <tr style=\"text-align: right;\">\n",
              "      <th></th>\n",
              "      <th>instant</th>\n",
              "      <th>season</th>\n",
              "      <th>yr</th>\n",
              "      <th>mnth</th>\n",
              "      <th>holiday</th>\n",
              "      <th>weekday</th>\n",
              "      <th>workingday</th>\n",
              "      <th>weathersit</th>\n",
              "      <th>temp</th>\n",
              "      <th>atemp</th>\n",
              "      <th>hum</th>\n",
              "      <th>windspeed</th>\n",
              "      <th>cnt</th>\n",
              "    </tr>\n",
              "  </thead>\n",
              "  <tbody>\n",
              "    <tr>\n",
              "      <th>671</th>\n",
              "      <td>672</td>\n",
              "      <td>4.0</td>\n",
              "      <td>1.0</td>\n",
              "      <td>11.0</td>\n",
              "      <td>0.0</td>\n",
              "      <td>5.0</td>\n",
              "      <td>1.0</td>\n",
              "      <td>1</td>\n",
              "      <td>0.355000</td>\n",
              "      <td>0.356042</td>\n",
              "      <td>0.522083</td>\n",
              "      <td>0.266175</td>\n",
              "      <td>5847</td>\n",
              "    </tr>\n",
              "    <tr>\n",
              "      <th>199</th>\n",
              "      <td>200</td>\n",
              "      <td>3.0</td>\n",
              "      <td>0.0</td>\n",
              "      <td>7.0</td>\n",
              "      <td>0.0</td>\n",
              "      <td>2.0</td>\n",
              "      <td>1.0</td>\n",
              "      <td>1</td>\n",
              "      <td>0.776667</td>\n",
              "      <td>0.747479</td>\n",
              "      <td>0.650417</td>\n",
              "      <td>0.130600</td>\n",
              "      <td>4541</td>\n",
              "    </tr>\n",
              "    <tr>\n",
              "      <th>77</th>\n",
              "      <td>78</td>\n",
              "      <td>1.0</td>\n",
              "      <td>0.0</td>\n",
              "      <td>3.0</td>\n",
              "      <td>0.0</td>\n",
              "      <td>6.0</td>\n",
              "      <td>0.0</td>\n",
              "      <td>1</td>\n",
              "      <td>0.472500</td>\n",
              "      <td>0.466525</td>\n",
              "      <td>0.379167</td>\n",
              "      <td>0.368167</td>\n",
              "      <td>3117</td>\n",
              "    </tr>\n",
              "    <tr>\n",
              "      <th>225</th>\n",
              "      <td>226</td>\n",
              "      <td>3.0</td>\n",
              "      <td>0.0</td>\n",
              "      <td>8.0</td>\n",
              "      <td>0.0</td>\n",
              "      <td>0.0</td>\n",
              "      <td>0.0</td>\n",
              "      <td>2</td>\n",
              "      <td>0.676667</td>\n",
              "      <td>0.624388</td>\n",
              "      <td>0.817500</td>\n",
              "      <td>0.222633</td>\n",
              "      <td>3820</td>\n",
              "    </tr>\n",
              "    <tr>\n",
              "      <th>37</th>\n",
              "      <td>38</td>\n",
              "      <td>1.0</td>\n",
              "      <td>0.0</td>\n",
              "      <td>2.0</td>\n",
              "      <td>0.0</td>\n",
              "      <td>1.0</td>\n",
              "      <td>1.0</td>\n",
              "      <td>1</td>\n",
              "      <td>0.271667</td>\n",
              "      <td>0.303658</td>\n",
              "      <td>0.738333</td>\n",
              "      <td>0.045408</td>\n",
              "      <td>1712</td>\n",
              "    </tr>\n",
              "  </tbody>\n",
              "</table>\n",
              "</div>"
            ],
            "text/plain": [
              "     instant  season   yr  mnth  holiday  weekday  workingday  weathersit  \\\n",
              "671      672     4.0  1.0  11.0      0.0      5.0         1.0           1   \n",
              "199      200     3.0  0.0   7.0      0.0      2.0         1.0           1   \n",
              "77        78     1.0  0.0   3.0      0.0      6.0         0.0           1   \n",
              "225      226     3.0  0.0   8.0      0.0      0.0         0.0           2   \n",
              "37        38     1.0  0.0   2.0      0.0      1.0         1.0           1   \n",
              "\n",
              "         temp     atemp       hum  windspeed   cnt  \n",
              "671  0.355000  0.356042  0.522083   0.266175  5847  \n",
              "199  0.776667  0.747479  0.650417   0.130600  4541  \n",
              "77   0.472500  0.466525  0.379167   0.368167  3117  \n",
              "225  0.676667  0.624388  0.817500   0.222633  3820  \n",
              "37   0.271667  0.303658  0.738333   0.045408  1712  "
            ]
          },
          "execution_count": 26,
          "metadata": {},
          "output_type": "execute_result"
        }
      ],
      "source": [
        "from sklearn.utils import shuffle\n",
        "df_shuffle_bikes = shuffle(df_bikes, random_state=2)\n",
        "df_shuffle_bikes.head()"
      ]
    },
    {
      "cell_type": "code",
      "execution_count": null,
      "metadata": {
        "id": "Zsu2t4uC9zjF"
      },
      "outputs": [],
      "source": [
        "# 데이터를 X와 y로 나눕니다.\n",
        "X_shuffle_bikes = df_shuffle_bikes.iloc[:,:-1]\n",
        "y_shuffle_bikes = df_shuffle_bikes.iloc[:,-1]"
      ]
    },
    {
      "cell_type": "code",
      "execution_count": null,
      "metadata": {
        "id": "pmb1eOSN9zjG",
        "outputId": "a9864b04-2568-40cb-a6ea-5e24e1bf2ba8"
      },
      "outputs": [
        {
          "name": "stdout",
          "output_type": "stream",
          "text": [
            "RMSE: [630.093 686.673 468.159 526.676 593.033 724.575 774.402 672.63  760.253\n",
            " 616.797]\n",
            "RMSE 평균: 645.329\n"
          ]
        }
      ],
      "source": [
        "# n_estimators=100, oob_score=True로 랜덤 포레스트 모델을 만듭니다.\n",
        "rf = RandomForestRegressor(n_estimators=100, min_impurity_decrease=0.1, \n",
        "                           max_features=0.6, max_depth=12, n_jobs=-1, \n",
        "                           random_state=2)\n",
        "   \n",
        "# 평균 제곱 오차를 사용해 교차 검증을 수행합니다.\n",
        "scores = cross_val_score(rf, X_shuffle_bikes, y_shuffle_bikes, \n",
        "                         scoring='neg_mean_squared_error', cv=10)\n",
        "    \n",
        "# 오차의 제곱근을 계산합니다.\n",
        "rmse = np.sqrt(-scores)\n",
        "    \n",
        "# rmse를 출력합니다.\n",
        "print('RMSE:', np.round(rmse, 3))\n",
        "\n",
        "# 평균 rmse를 출력합니다.\n",
        "print('RMSE 평균: %0.3f' % (rmse.mean()))"
      ]
    }
  ],
  "metadata": {
    "kernelspec": {
      "display_name": "default:Python",
      "language": "python",
      "name": "conda-env-default-py"
    },
    "language_info": {
      "codemirror_mode": {
        "name": "ipython",
        "version": 3
      },
      "file_extension": ".py",
      "mimetype": "text/x-python",
      "name": "python",
      "nbconvert_exporter": "python",
      "pygments_lexer": "ipython3",
      "version": "3.9.12"
    },
    "colab": {
      "provenance": []
    }
  },
  "nbformat": 4,
  "nbformat_minor": 0
}